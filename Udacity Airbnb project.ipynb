{
 "cells": [
  {
   "cell_type": "code",
   "execution_count": null,
   "id": "83a5e252",
   "metadata": {},
   "outputs": [],
   "source": [
    "import pandas as pd\n",
    "import numpy as np\n",
    "import matplotlib.pyplot as plt\n",
    "import seaborn as sns\n",
    "\n",
    "import re\n",
    "import nltk\n",
    "from nltk.corpus import stopwords\n",
    "from nltk.tokenize import word_tokenize\n",
    "from nltk.stem import WordNetLemmatizer\n",
    "from datetime import date\n",
    "\n",
    "import string\n",
    "\n",
    "from nltk.probability import FreqDist\n",
    "from nltk.util import ngrams\n",
    "from collections import Counter\n",
    "\n",
    "import statsmodels.api as sm"
   ]
  },
  {
   "cell_type": "code",
   "execution_count": null,
   "id": "7f48bba7",
   "metadata": {},
   "outputs": [],
   "source": [
    "#SET OUT THE QUESTIONS OF INTEREST\n",
    "\"\"\"\n",
    "1) Is there a difference in the average price per night of Airbnb's in Seattle and Boston?\n",
    "2) What are people saying about their stays in Boston and Seattle?\n",
    "3) When it comes to price, is it really all about location, location, location? Are downtown properties that much more expensive than those further out?\n",
    "4) What are the most important factors in deciding the price per night of an Airbnb and is city one of them?\n",
    "\n",
    "\"\"\""
   ]
  },
  {
   "cell_type": "code",
   "execution_count": null,
   "id": "4a5f0960",
   "metadata": {},
   "outputs": [],
   "source": [
    "# INTRODUCE THE DATA"
   ]
  },
  {
   "cell_type": "code",
   "execution_count": null,
   "id": "7f1ad1da",
   "metadata": {},
   "outputs": [],
   "source": [
    "# Read in the data. You will need to edit these steps for your own machine\n",
    "\n",
    "Sea_calendar = pd.read_csv('D:\\\\lori_python\\\\UDACITY\\\\Lesson 1 Intro to DS\\\\Project 1 blog post\\\\Data\\\\Seattle data\\\\calendar.csv')\n",
    "Sea_listings = pd.read_csv('D:\\\\lori_python\\\\UDACITY\\\\Lesson 1 Intro to DS\\\\Project 1 blog post\\\\Data\\\\Seattle data\\\\listings.csv')\n",
    "Sea_reviews = pd.read_csv('D:\\\\lori_python\\\\UDACITY\\\\Lesson 1 Intro to DS\\\\Project 1 blog post\\\\Data\\\\Seattle data\\\\reviews.csv')"
   ]
  },
  {
   "cell_type": "code",
   "execution_count": null,
   "id": "53573705",
   "metadata": {},
   "outputs": [],
   "source": [
    "#See comment above\n",
    "Bos_calendar = pd.read_csv('D:\\\\lori_python\\\\UDACITY\\\\Lesson 1 Intro to DS\\\\Project 1 blog post\\\\Data\\\\Boston data\\\\calendar.csv')\n",
    "Bos_listings = pd.read_csv('D:\\\\lori_python\\\\UDACITY\\\\Lesson 1 Intro to DS\\\\Project 1 blog post\\\\Data\\\\Boston data\\\\listings.csv')\n",
    "Bos_reviews = pd.read_csv('D:\\\\lori_python\\\\UDACITY\\\\Lesson 1 Intro to DS\\\\Project 1 blog post\\\\Data\\\\Boston data\\\\reviews.csv')"
   ]
  },
  {
   "cell_type": "code",
   "execution_count": null,
   "id": "c016759d",
   "metadata": {},
   "outputs": [],
   "source": [
    "pd.set_option('display.max_columns', 200)\n",
    "Sea_listings.head()"
   ]
  },
  {
   "cell_type": "code",
   "execution_count": null,
   "id": "dec17fce",
   "metadata": {},
   "outputs": [],
   "source": [
    "Sea_listings.columns"
   ]
  },
  {
   "cell_type": "code",
   "execution_count": null,
   "id": "92b695df",
   "metadata": {},
   "outputs": [],
   "source": [
    "Bos_listings.head()"
   ]
  },
  {
   "cell_type": "code",
   "execution_count": null,
   "id": "3b7c0a85",
   "metadata": {},
   "outputs": [],
   "source": [
    "# Let's get some idea of when the data is from and whether the different data sets all refer to the same pool of properties\n",
    "\n",
    "Sea_listings['last_scraped'].value_counts()\n",
    "\n",
    "Bos_listings['last_scraped'].value_counts()"
   ]
  },
  {
   "cell_type": "code",
   "execution_count": null,
   "id": "7c2f11ef",
   "metadata": {},
   "outputs": [],
   "source": [
    "\n",
    "Sea_reviews['date'].min()\n",
    "\n",
    "Sea_reviews['date'].max()"
   ]
  },
  {
   "cell_type": "code",
   "execution_count": null,
   "id": "62d59889",
   "metadata": {},
   "outputs": [],
   "source": [
    "Bos_reviews['date'].min()\n",
    "\n",
    "Bos_reviews['date'].max()"
   ]
  },
  {
   "cell_type": "code",
   "execution_count": null,
   "id": "15eca593",
   "metadata": {},
   "outputs": [],
   "source": [
    "#Let's check that the properties in the reviews data sets are the same as in the listings data\n",
    "Sea_ser1 = Sea_reviews['listing_id']\n",
    "Sea_ser2 = Sea_listings['id']\n",
    "Intersect = set(Sea_ser1) & set(Sea_ser2)\n",
    "print(len(Intersect))\n",
    "\n",
    "Sea_reviews['listing_id'].nunique() # From this we can conclude that all Seattle reviews relate to properties in the listings data set\n"
   ]
  },
  {
   "cell_type": "code",
   "execution_count": null,
   "id": "044a4503",
   "metadata": {},
   "outputs": [],
   "source": [
    "Bos_ser1 = Bos_reviews['listing_id']\n",
    "Bos_ser2 = Bos_listings['id']\n",
    "BIntersect = set(Bos_ser1) & set(Bos_ser2)\n",
    "print(len(BIntersect))\n",
    "\n",
    "Bos_reviews['listing_id'].nunique() # Again can conclude properties are the same in the two data sets"
   ]
  },
  {
   "cell_type": "code",
   "execution_count": null,
   "id": "73fa6e5b",
   "metadata": {},
   "outputs": [],
   "source": []
  },
  {
   "cell_type": "code",
   "execution_count": null,
   "id": "72cc7c9a",
   "metadata": {},
   "outputs": [],
   "source": [
    "# SECTION 1\n",
    "# In this part of the notebook I work with the text data in the 'reviews' datasets. The aim here is to understand what people are saying about their stays in each city by finding common words and phrases used in reviews"
   ]
  },
  {
   "cell_type": "code",
   "execution_count": null,
   "id": "650db91a",
   "metadata": {},
   "outputs": [],
   "source": [
    "len(Sea_reviews)"
   ]
  },
  {
   "cell_type": "code",
   "execution_count": null,
   "id": "20a82080",
   "metadata": {},
   "outputs": [],
   "source": [
    "len(Bos_reviews)"
   ]
  },
  {
   "cell_type": "code",
   "execution_count": null,
   "id": "ad2e7bd1",
   "metadata": {},
   "outputs": [],
   "source": [
    "np.sum(Sea_reviews.isnull())"
   ]
  },
  {
   "cell_type": "code",
   "execution_count": null,
   "id": "ee195eba",
   "metadata": {},
   "outputs": [],
   "source": [
    "np.sum(Bos_reviews.isnull())"
   ]
  },
  {
   "cell_type": "code",
   "execution_count": null,
   "id": "8b4bac1c",
   "metadata": {},
   "outputs": [],
   "source": [
    "Sea_reviews = Sea_reviews.dropna()\n",
    "Bos_reviews= Bos_reviews.dropna()"
   ]
  },
  {
   "cell_type": "code",
   "execution_count": null,
   "id": "06731f57",
   "metadata": {},
   "outputs": [],
   "source": [
    "#When you look at reviews you often find that there are automated posting when a reservaton is cancelled. Let's remove these\n",
    "substring = [\"automated posting\"]\n",
    "Sea_reviews = Sea_reviews[~Sea_reviews.comments.str.contains('|'.join(substring))]\n",
    "print(len(Sea_reviews))"
   ]
  },
  {
   "cell_type": "code",
   "execution_count": null,
   "id": "dad7124a",
   "metadata": {},
   "outputs": [],
   "source": [
    "Bos_reviews = Bos_reviews[~Bos_reviews.comments.str.contains('|'.join(substring))]\n",
    "print(len(Bos_reviews))"
   ]
  },
  {
   "cell_type": "code",
   "execution_count": null,
   "id": "205c5964",
   "metadata": {},
   "outputs": [],
   "source": [
    "Sea_reviews.head()"
   ]
  },
  {
   "cell_type": "code",
   "execution_count": null,
   "id": "8534d1d5",
   "metadata": {},
   "outputs": [],
   "source": [
    "Bos_reviews.head()"
   ]
  },
  {
   "cell_type": "code",
   "execution_count": null,
   "id": "a48cf98c",
   "metadata": {},
   "outputs": [],
   "source": [
    "Sea_reviews['comments'] = Sea_reviews['comments'].str.lower()\n",
    "Bos_reviews['comments'] = Bos_reviews['comments'].str.lower()"
   ]
  },
  {
   "cell_type": "code",
   "execution_count": null,
   "id": "97936988",
   "metadata": {},
   "outputs": [],
   "source": [
    "\"\"\" This function takes a text input and prepares it for analysis\n",
    "\n",
    "Args - text (str): This is a string or collection of strings\n",
    "\n",
    "Returns - text (str): This is the original text with stopwords removed and word lemmatized\n",
    "\n",
    "\n",
    " \"\"\"\n",
    "\n",
    "def clean_text(text):\n",
    "\n",
    "    text = text.translate(str.maketrans('', '', string.punctuation))\n",
    "    # Tokenize the text\n",
    "    tokens = word_tokenize(text.lower())\n",
    "    \n",
    "    # Remove stopwords\n",
    "    stop_words = set(stopwords.words('english'))\n",
    "    filtered_tokens = [token for token in tokens if token not in stop_words]\n",
    "    \n",
    "    # Lemmatize the tokens\n",
    "    lemmatizer = WordNetLemmatizer()\n",
    "    lemmatized_tokens = [lemmatizer.lemmatize(token) for token in filtered_tokens]\n",
    "    \n",
    "    # Join the tokens back into a string\n",
    "    clean_text = ' '.join(lemmatized_tokens)\n",
    "    \n",
    "    return clean_text"
   ]
  },
  {
   "cell_type": "code",
   "execution_count": null,
   "id": "52e67771",
   "metadata": {},
   "outputs": [],
   "source": [
    "#Preprocessing"
   ]
  },
  {
   "cell_type": "code",
   "execution_count": null,
   "id": "9660a56c",
   "metadata": {},
   "outputs": [],
   "source": [
    "Cleaned_SText = Sea_reviews['comments'].apply(clean_text)\n",
    "S_reviews = pd.DataFrame({'cleaned text': Cleaned_SText})\n",
    "\n",
    "S_reviews.head()"
   ]
  },
  {
   "cell_type": "code",
   "execution_count": null,
   "id": "741505c1",
   "metadata": {},
   "outputs": [],
   "source": [
    "#here I tokenize each review and join all of the tokens into one string, before calculating the most common words in that string\n",
    "all_tokens = []\n",
    "for review in S_reviews['cleaned text']:\n",
    "    tokens = nltk.word_tokenize(review)\n",
    "    all_tokens.extend(tokens)\n",
    "\n",
    "S_fd = FreqDist(all_tokens)\n",
    "S_fd.most_common(10)"
   ]
  },
  {
   "cell_type": "code",
   "execution_count": null,
   "id": "7eda050e",
   "metadata": {},
   "outputs": [],
   "source": [
    "Seattle_Words = S_fd.most_common(10)"
   ]
  },
  {
   "cell_type": "code",
   "execution_count": null,
   "id": "04b31756",
   "metadata": {},
   "outputs": [],
   "source": [
    "# Here I find the most common two-word phrases in the 'all_tokens' string. In theory the phrases couldf be of an length, however two-word bigrams are generally considered to be the most informative\n",
    "S_phrases = Counter(list(ngrams(all_tokens, 2)))\n",
    "S_phrases.most_common(5)"
   ]
  },
  {
   "cell_type": "code",
   "execution_count": null,
   "id": "1fa6dc7a",
   "metadata": {},
   "outputs": [],
   "source": [
    "# Repeat the process for Boston properties"
   ]
  },
  {
   "cell_type": "code",
   "execution_count": null,
   "id": "46696dc5",
   "metadata": {},
   "outputs": [],
   "source": [
    "Cleaned_BText = Bos_reviews['comments'].apply(clean_text)\n",
    "B_reviews = pd.DataFrame({'cleaned text': Cleaned_BText})"
   ]
  },
  {
   "cell_type": "code",
   "execution_count": null,
   "id": "e9884c24",
   "metadata": {},
   "outputs": [],
   "source": [
    "all_Bostokens = []\n",
    "for review in B_reviews['cleaned text']:\n",
    "    tokens = nltk.word_tokenize(review)\n",
    "    all_Bostokens.extend(tokens)\n",
    "\n",
    "B_fd = FreqDist(all_Bostokens)\n",
    "B_fd.most_common(10)"
   ]
  },
  {
   "cell_type": "code",
   "execution_count": null,
   "id": "3effee3e",
   "metadata": {},
   "outputs": [],
   "source": [
    "Boston_Words = B_fd.most_common(10)"
   ]
  },
  {
   "cell_type": "code",
   "execution_count": null,
   "id": "784cbb5a",
   "metadata": {},
   "outputs": [],
   "source": [
    "B_Phrases = Counter(list(ngrams(all_Bostokens,2)))\n",
    "B_Phrases.most_common(5)"
   ]
  },
  {
   "cell_type": "code",
   "execution_count": null,
   "id": "2efa8bb5",
   "metadata": {},
   "outputs": [],
   "source": [
    "#Bring it all together"
   ]
  },
  {
   "cell_type": "code",
   "execution_count": null,
   "id": "36fc1e96",
   "metadata": {},
   "outputs": [],
   "source": [
    "Common_Words = pd.DataFrame({'Seattle': Seattle_Words})"
   ]
  },
  {
   "cell_type": "code",
   "execution_count": null,
   "id": "a90f6cca",
   "metadata": {},
   "outputs": [],
   "source": [
    "Common_Words['Boston'] = Boston_Words"
   ]
  },
  {
   "cell_type": "code",
   "execution_count": null,
   "id": "78b6378f",
   "metadata": {},
   "outputs": [],
   "source": [
    "Common_Words = Common_Words.applymap(lambda x: str(x).replace(\"(\", \"\").replace(\")\", \"\"))"
   ]
  },
  {
   "cell_type": "code",
   "execution_count": null,
   "id": "163467f9",
   "metadata": {},
   "outputs": [],
   "source": [
    "Common_Words.style.hide(axis='index')"
   ]
  },
  {
   "cell_type": "code",
   "execution_count": null,
   "id": "b2aadfb6",
   "metadata": {},
   "outputs": [],
   "source": [
    "import plotly.figure_factory as ff\n",
    "fig =  ff.create_table(Common_Words)\n",
    "fig.update_layout(\n",
    "    title={\n",
    "        'text': \"Most common words in reviews, by city\",\n",
    "        'x': 0.5,\n",
    "        'xanchor': 'center',\n",
    "        'font': {'size': 20}\n",
    "    },\n",
    "    margin=dict(l=50, r=50, t=50, b=50),\n",
    "    width=500,\n",
    "    height=550,)\n",
    "\n",
    "fig.write_image(\"FinalCommonWords.png\", scale=2)\n",
    "fig.show()"
   ]
  },
  {
   "cell_type": "code",
   "execution_count": null,
   "id": "cd296ae5",
   "metadata": {},
   "outputs": [],
   "source": [
    "Phrases = pd.DataFrame({'Seattle': S_phrases.most_common(5)})"
   ]
  },
  {
   "cell_type": "code",
   "execution_count": null,
   "id": "1bf32559",
   "metadata": {},
   "outputs": [],
   "source": [
    "Phrases['Boston'] = B_Phrases.most_common(5)"
   ]
  },
  {
   "cell_type": "code",
   "execution_count": null,
   "id": "08fd71c1",
   "metadata": {},
   "outputs": [],
   "source": [
    "\"\"\"As it stands a figure made with the Phrases data will put quote marks around every word, whereas we want them around the phrase. \n",
    "This function removes quote marks after the first word and before the second word as well as the comma inbetween them.\n",
    "\n",
    "Args - text (str): this can string data\n",
    "\n",
    "Returns = text (str): This is the original text with the unwanted quote marks removed\n",
    "\n",
    "\n",
    "\"\"\"\n",
    "\n",
    "\n",
    "def clean_text(text):\n",
    "    text= str(text)\n",
    "    text = text.replace(\"'\", \"\").replace(\"(\", \"\").replace(\")\", \"\")  # remove all quote marks\n",
    "    text = text.split(\", \")  # split the string into a list\n",
    "    text = f\"'{text[0]} {text[1]}'\" + \", \" + text[2]  # add back the first and fourth quote marks, and the second comma\n",
    "    return text"
   ]
  },
  {
   "cell_type": "code",
   "execution_count": null,
   "id": "8a9625f4",
   "metadata": {},
   "outputs": [],
   "source": [
    "Phrases = Phrases.applymap(clean_text)"
   ]
  },
  {
   "cell_type": "code",
   "execution_count": null,
   "id": "24d4de24",
   "metadata": {},
   "outputs": [],
   "source": [
    "\n",
    "fig = ff.create_table(Phrases)\n",
    "fig.update_layout(\n",
    "    title={\n",
    "        'text': \"Most common phrases in reviews, by city\",\n",
    "        'x': 0.5,\n",
    "        'xanchor': 'center',\n",
    "        'font': {'size': 20}\n",
    "    },\n",
    "    margin=dict(l=50, r=50, t=50, b=50),\n",
    "    width=550,\n",
    "    height=350,\n",
    ")\n",
    "fig.write_image(\"FinalReviewPhrases.png\", scale=2)\n",
    "fig.show()"
   ]
  },
  {
   "cell_type": "code",
   "execution_count": null,
   "id": "43593b1d",
   "metadata": {},
   "outputs": [],
   "source": []
  },
  {
   "cell_type": "code",
   "execution_count": null,
   "id": "7f84a9ac",
   "metadata": {},
   "outputs": [],
   "source": [
    "#SECTION 2\n",
    "\n",
    "# This section of the notebook plots the properties on a map of their respective cities, with colour coding to show price band.  \n",
    "#Before doing this the price data needs to be tidied up, as there are non-numeric characters."
   ]
  },
  {
   "cell_type": "code",
   "execution_count": null,
   "id": "6c124921",
   "metadata": {},
   "outputs": [],
   "source": [
    "\n",
    "Sea_listings['price'] = Sea_listings['price'].str.replace(',', '')\n",
    "\n",
    "Sea_listings['price'] = Sea_listings['price'].str.replace('$', '')\n",
    "\n",
    "Sea_listings['price'] = Sea_listings['price'].str.replace(' ', '')\n",
    "\n",
    "Sea_listings['price'].head()\n"
   ]
  },
  {
   "cell_type": "code",
   "execution_count": null,
   "id": "fe85eff8",
   "metadata": {},
   "outputs": [],
   "source": [
    "\n",
    "Sea_listings['price'] = Sea_listings['price'].astype('float')\n"
   ]
  },
  {
   "cell_type": "code",
   "execution_count": null,
   "id": "c63847a7",
   "metadata": {},
   "outputs": [],
   "source": [
    "\n",
    "(np.sum(Sea_listings['price'].isnull()) / len(Sea_listings['price'])) * 100 # % missing values\n"
   ]
  },
  {
   "cell_type": "code",
   "execution_count": null,
   "id": "3025a8cf",
   "metadata": {},
   "outputs": [],
   "source": [
    "\n",
    "Sea_listings['price'].min()"
   ]
  },
  {
   "cell_type": "code",
   "execution_count": null,
   "id": "4499d0fe",
   "metadata": {},
   "outputs": [],
   "source": [
    "\n",
    "Sea_listings['price'].max()"
   ]
  },
  {
   "cell_type": "code",
   "execution_count": null,
   "id": "dcf8bac8",
   "metadata": {},
   "outputs": [],
   "source": [
    "\n",
    "Sea_listings['price'].mean()"
   ]
  },
  {
   "cell_type": "code",
   "execution_count": null,
   "id": "5866ca9c",
   "metadata": {},
   "outputs": [],
   "source": [
    "\n",
    "Sea_listings['price_range($)'] = Sea_listings['price'].apply(lambda x:'<50' if x < 50 else '50-100' if x <100 else '100-150' if x <150 \n",
    "                                                 else '150-200' if x < 200 else '200-250' if x < 250 else '250-300' if x <300\n",
    "                                                     else '>300')"
   ]
  },
  {
   "cell_type": "code",
   "execution_count": null,
   "id": "ba3238d0",
   "metadata": {},
   "outputs": [],
   "source": [
    "                                                    \n",
    "Sea_listings['price_range($)'].value_counts()\n"
   ]
  },
  {
   "cell_type": "code",
   "execution_count": null,
   "id": "f80fc61f",
   "metadata": {},
   "outputs": [],
   "source": [
    "plt.figure(figsize=(16,12))\n",
    "sns.scatterplot(x='longitude', y='latitude', data=Sea_listings,\n",
    "                hue='price_range($)', hue_order = ['<50', '50-100', '100-150', '150-200', '200-250', '250-300', '>300'], \n",
    "                palette='viridis').set(title=\"Map of Seattle Airbnb listings\")\n",
    "#plt.savefig('Seattle_Map2.png')\n"
   ]
  },
  {
   "cell_type": "code",
   "execution_count": null,
   "id": "64504a33",
   "metadata": {},
   "outputs": [],
   "source": [
    "# Let's take the count for each neighbourhood to help with interpreting the map\n",
    "\n",
    "Sea_listings['neighbourhood'].value_counts()\n"
   ]
  },
  {
   "cell_type": "code",
   "execution_count": null,
   "id": "a7ddb917",
   "metadata": {},
   "outputs": [],
   "source": [
    "# Boston map\n",
    "Bos_listings['price'] = Bos_listings['price'].str.replace(',', '')\n",
    "\n",
    "Bos_listings['price'] = Bos_listings['price'].str.replace('$', '')\n",
    "\n",
    "Bos_listings['price'] = Bos_listings['price'].str.replace(' ', '')\n",
    "\n",
    "Bos_listings['price'].head()\n",
    "\n",
    "Bos_listings['price'] = Bos_listings['price'].astype('float')\n"
   ]
  },
  {
   "cell_type": "code",
   "execution_count": null,
   "id": "ddeb6c90",
   "metadata": {},
   "outputs": [],
   "source": [
    "(np.sum(Bos_listings['price'].isnull()) / len(Bos_listings['price'])) * 100 # % missing values"
   ]
  },
  {
   "cell_type": "code",
   "execution_count": null,
   "id": "167b8406",
   "metadata": {},
   "outputs": [],
   "source": [
    "Bos_listings['price'].min()"
   ]
  },
  {
   "cell_type": "code",
   "execution_count": null,
   "id": "7153fafe",
   "metadata": {},
   "outputs": [],
   "source": [
    "Bos_listings['price'].max()"
   ]
  },
  {
   "cell_type": "code",
   "execution_count": null,
   "id": "79c659a9",
   "metadata": {},
   "outputs": [],
   "source": [
    "Bos_listings['price'].mean()"
   ]
  },
  {
   "cell_type": "code",
   "execution_count": null,
   "id": "8e91bfb9",
   "metadata": {},
   "outputs": [],
   "source": [
    "Bos_listings['price_range($)'] = Bos_listings['price'].apply(lambda x:'<50' if x < 50 else '50-100' if x <100 else '100-150' if x <150 \n",
    "                                                 else '150-200' if x < 200 else '200-250' if x < 250 else '250-300' if x <300\n",
    "                                                     else '>300')"
   ]
  },
  {
   "cell_type": "code",
   "execution_count": null,
   "id": "5d6bd854",
   "metadata": {},
   "outputs": [],
   "source": [
    "plt.figure(figsize=(16,12))\n",
    "sns.scatterplot(x='longitude', y='latitude', data=Bos_listings,\n",
    "                hue='price_range($)', hue_order = ['<50', '50-100', '100-150', '150-200', '200-250', '250-300', '>300'], \n",
    "                palette='viridis').set(title=\"Map of Seattle Airbnb listings\")\n",
    "# plt.savefig('Boston_Map6.png')"
   ]
  },
  {
   "cell_type": "code",
   "execution_count": null,
   "id": "48a05a69",
   "metadata": {},
   "outputs": [],
   "source": [
    "Bos_listings['neighbourhood'].value_counts()\n",
    "#In Seattle the downtown doesn't command the same premium as in Boston as the lighter dots are spread out, whereas in Boston anything that isn't central is a darker colour"
   ]
  },
  {
   "cell_type": "code",
   "execution_count": null,
   "id": "89a37e4c",
   "metadata": {},
   "outputs": [],
   "source": []
  },
  {
   "cell_type": "code",
   "execution_count": null,
   "id": "6e3137ac",
   "metadata": {},
   "outputs": [],
   "source": [
    "# SECTION 3\n",
    "# What factors determine the price of stays, is there a difference between the two cities? This section of code will provide a regression model to explore this question"
   ]
  },
  {
   "cell_type": "code",
   "execution_count": null,
   "id": "7a8149bc",
   "metadata": {},
   "outputs": [],
   "source": [
    "Sea_listings.shape"
   ]
  },
  {
   "cell_type": "code",
   "execution_count": null,
   "id": "5a005a38",
   "metadata": {},
   "outputs": [],
   "source": [
    "Bos_listings.shape"
   ]
  },
  {
   "cell_type": "code",
   "execution_count": null,
   "id": "bf974702",
   "metadata": {},
   "outputs": [],
   "source": [
    "a = np.setdiff1d(Sea_listings.columns, Bos_listings.columns)\n",
    "print (a) # Columns that are in Seattle data but not Boston"
   ]
  },
  {
   "cell_type": "code",
   "execution_count": null,
   "id": "b13c29bd",
   "metadata": {},
   "outputs": [],
   "source": [
    "b = np.setdiff1d(Bos_listings.columns, Sea_listings.columns)\n",
    "print (b) # Columns that are in Boston data but not Seattle"
   ]
  },
  {
   "cell_type": "code",
   "execution_count": null,
   "id": "fd553f9f",
   "metadata": {},
   "outputs": [],
   "source": [
    "Bos_listings = Bos_listings.drop(['access', 'house_rules', 'interaction'], axis=1)"
   ]
  },
  {
   "cell_type": "code",
   "execution_count": null,
   "id": "39a620fa",
   "metadata": {},
   "outputs": [],
   "source": [
    "Bos_listings.shape"
   ]
  },
  {
   "cell_type": "code",
   "execution_count": null,
   "id": "2a560bb3",
   "metadata": {},
   "outputs": [],
   "source": [
    "Sea_listings['Boston_City'] = 0"
   ]
  },
  {
   "cell_type": "code",
   "execution_count": null,
   "id": "9d9bc122",
   "metadata": {},
   "outputs": [],
   "source": [
    "Sea_listings['Boston_City'].value_counts()"
   ]
  },
  {
   "cell_type": "code",
   "execution_count": null,
   "id": "0bc3eb1c",
   "metadata": {},
   "outputs": [],
   "source": [
    "Bos_listings['Boston_City'] = 1"
   ]
  },
  {
   "cell_type": "code",
   "execution_count": null,
   "id": "8ef62950",
   "metadata": {},
   "outputs": [],
   "source": [
    "Bos_listings['Boston_City'].value_counts()"
   ]
  },
  {
   "cell_type": "code",
   "execution_count": null,
   "id": "1350f199",
   "metadata": {},
   "outputs": [],
   "source": [
    "# To run a regression we want to combine these into one data set.\n",
    "# Before doing that, let's check the distributions of price and remove outliers"
   ]
  },
  {
   "cell_type": "code",
   "execution_count": null,
   "id": "8572b859",
   "metadata": {},
   "outputs": [],
   "source": [
    "plt.hist(Sea_listings['price'])"
   ]
  },
  {
   "cell_type": "code",
   "execution_count": null,
   "id": "51bbf47d",
   "metadata": {},
   "outputs": [],
   "source": [
    "Sea_listings['price'].mean()"
   ]
  },
  {
   "cell_type": "code",
   "execution_count": null,
   "id": "3c2829c8",
   "metadata": {},
   "outputs": [],
   "source": [
    "Sea_listings['price'].max() # Even with fairly large bins we have some massive outliers"
   ]
  },
  {
   "cell_type": "code",
   "execution_count": null,
   "id": "6b7b0132",
   "metadata": {},
   "outputs": [],
   "source": [
    "len(Sea_listings['price'])"
   ]
  },
  {
   "cell_type": "code",
   "execution_count": null,
   "id": "815dbc58",
   "metadata": {},
   "outputs": [],
   "source": [
    "#Let's remove the highest 10% of values, given the strong rightward skew\n",
    "3818 * 0.9 # Find out where the 90 percentile would be"
   ]
  },
  {
   "cell_type": "code",
   "execution_count": null,
   "id": "034c3281",
   "metadata": {},
   "outputs": [],
   "source": [
    "Sea_listings['clean_price'] = Sea_listings['price'].sort_values()[:3436]"
   ]
  },
  {
   "cell_type": "code",
   "execution_count": null,
   "id": "51397a34",
   "metadata": {},
   "outputs": [],
   "source": [
    "plt.hist(Sea_listings['clean_price'])# there is a little bit of skew, but this looks a lot more like a normal distribution"
   ]
  },
  {
   "cell_type": "code",
   "execution_count": null,
   "id": "901acd32",
   "metadata": {},
   "outputs": [],
   "source": [
    "#Now for boston data"
   ]
  },
  {
   "cell_type": "code",
   "execution_count": null,
   "id": "9bc99200",
   "metadata": {},
   "outputs": [],
   "source": [
    "plt.hist(Bos_listings['price'])"
   ]
  },
  {
   "cell_type": "code",
   "execution_count": null,
   "id": "e8841a8b",
   "metadata": {},
   "outputs": [],
   "source": [
    "Bos_listings['price'].mean()"
   ]
  },
  {
   "cell_type": "code",
   "execution_count": null,
   "id": "3739a1a9",
   "metadata": {},
   "outputs": [],
   "source": [
    "Bos_listings['price'].max() # Max value is nowhere near where the data is clustered!"
   ]
  },
  {
   "cell_type": "code",
   "execution_count": null,
   "id": "9a71ee22",
   "metadata": {},
   "outputs": [],
   "source": [
    "len(Bos_listings)"
   ]
  },
  {
   "cell_type": "code",
   "execution_count": null,
   "id": "644828e6",
   "metadata": {},
   "outputs": [],
   "source": [
    "3585 * 0.9"
   ]
  },
  {
   "cell_type": "code",
   "execution_count": null,
   "id": "742c6be0",
   "metadata": {},
   "outputs": [],
   "source": [
    "Bos_listings['clean_price'] = Bos_listings['price'].sort_values()[:3227]"
   ]
  },
  {
   "cell_type": "code",
   "execution_count": null,
   "id": "dee448a3",
   "metadata": {},
   "outputs": [],
   "source": [
    "plt.hist(Bos_listings['clean_price']) #Still skewed but nowhere near as extreme"
   ]
  },
  {
   "cell_type": "code",
   "execution_count": null,
   "id": "30505874",
   "metadata": {},
   "outputs": [],
   "source": [
    "#Let's compare average prices per night now outliers have been removed"
   ]
  },
  {
   "cell_type": "code",
   "execution_count": null,
   "id": "d3b53a3c",
   "metadata": {},
   "outputs": [],
   "source": [
    "Bos_listings['clean_price'].mean()"
   ]
  },
  {
   "cell_type": "code",
   "execution_count": null,
   "id": "2a3e013f",
   "metadata": {},
   "outputs": [],
   "source": [
    "Sea_listings['clean_price'].mean()"
   ]
  },
  {
   "cell_type": "code",
   "execution_count": null,
   "id": "ab464fbc",
   "metadata": {},
   "outputs": [],
   "source": [
    "#Let's also take a look at average review scores"
   ]
  },
  {
   "cell_type": "code",
   "execution_count": null,
   "id": "b4621fd2",
   "metadata": {},
   "outputs": [],
   "source": [
    "Bos_listings['review_scores_rating'].mean()"
   ]
  },
  {
   "cell_type": "code",
   "execution_count": null,
   "id": "95db9f50",
   "metadata": {},
   "outputs": [],
   "source": [
    "Sea_listings['review_scores_rating'].mean()"
   ]
  },
  {
   "cell_type": "code",
   "execution_count": null,
   "id": "87ca2265",
   "metadata": {},
   "outputs": [],
   "source": [
    "#From all this we can see that with outliers removed Boston has a higher average price per night than Seattle, despite lower average review scores"
   ]
  },
  {
   "cell_type": "code",
   "execution_count": null,
   "id": "d9ca4aa1",
   "metadata": {},
   "outputs": [],
   "source": [
    "#Combine the two data sets into one"
   ]
  },
  {
   "cell_type": "code",
   "execution_count": null,
   "id": "ea7275ff",
   "metadata": {},
   "outputs": [],
   "source": [
    "listings = Sea_listings.append(Bos_listings)"
   ]
  },
  {
   "cell_type": "code",
   "execution_count": null,
   "id": "6d8dd292",
   "metadata": {},
   "outputs": [],
   "source": [
    "listings.shape"
   ]
  },
  {
   "cell_type": "code",
   "execution_count": null,
   "id": "aa3f2f4a",
   "metadata": {
    "scrolled": true
   },
   "outputs": [],
   "source": [
    "listings.info() #Why is licence in here? Most variable have decent observations.\n",
    "#Let's pick variables of interest out from the below for modelling, as not all of these are relevant to price"
   ]
  },
  {
   "cell_type": "code",
   "execution_count": null,
   "id": "959c92a6",
   "metadata": {},
   "outputs": [],
   "source": [
    "#Before dropping id data, let's see how many unique id's there are\n",
    "listings['id'].nunique()\n",
    "#Looks like all rows are unique properties"
   ]
  },
  {
   "cell_type": "code",
   "execution_count": null,
   "id": "722420de",
   "metadata": {},
   "outputs": [],
   "source": [
    "# Let's only keep variables of interest\n",
    "listings = listings[['clean_price', 'host_is_superhost', 'room_type', 'bed_type', 'experiences_offered', 'host_has_profile_pic', 'Boston_City', 'is_location_exact', 'property_type','bathrooms', 'bedrooms', 'beds', 'security_deposit', 'cleaning_fee', 'minimum_nights', 'maximum_nights', 'availability_30', 'number_of_reviews', 'review_scores_rating', 'instant_bookable', 'cancellation_policy', 'amenities' ]]"
   ]
  },
  {
   "cell_type": "code",
   "execution_count": null,
   "id": "ef19d34f",
   "metadata": {},
   "outputs": [],
   "source": [
    "listings.info()"
   ]
  },
  {
   "cell_type": "code",
   "execution_count": null,
   "id": "233da2ef",
   "metadata": {},
   "outputs": [],
   "source": [
    "listings.head()"
   ]
  },
  {
   "cell_type": "code",
   "execution_count": null,
   "id": "7edb2c40",
   "metadata": {},
   "outputs": [],
   "source": [
    "listings['experiences_offered'].value_counts() # looks like a dudd"
   ]
  },
  {
   "cell_type": "code",
   "execution_count": null,
   "id": "a0118c1e",
   "metadata": {},
   "outputs": [],
   "source": [
    "listings = listings.drop(['experiences_offered'], axis=1)"
   ]
  },
  {
   "cell_type": "code",
   "execution_count": null,
   "id": "948eb5be",
   "metadata": {},
   "outputs": [],
   "source": [
    "listings.shape"
   ]
  },
  {
   "cell_type": "code",
   "execution_count": null,
   "id": "3184a373",
   "metadata": {},
   "outputs": [],
   "source": [
    "#Let's start tidying up the data.\n",
    "# Have binary variables that need to be 1/0, text that needs to be encoded as a scale, punctuation to remove and missing values to impute."
   ]
  },
  {
   "cell_type": "code",
   "execution_count": null,
   "id": "b0a0a6a0",
   "metadata": {},
   "outputs": [],
   "source": [
    "# identify the unique elements in the 'amenities' column and create dummy variables for each "
   ]
  },
  {
   "cell_type": "code",
   "execution_count": null,
   "id": "3b47ca69",
   "metadata": {},
   "outputs": [],
   "source": [
    "ammen = listings['amenities'].str.split(\",\")\n",
    "\n",
    "ammen\n",
    "\n",
    "flat_list = []\n",
    "for sublist in ammen:\n",
    "    for item in sublist:\n",
    "        flat_list.append(item)\n",
    "\n",
    "flat_list\n",
    "\n",
    "char = '{'\n",
    "char2 ='}'\n",
    "char3 = '\"'\n",
    "char4 = \"'\"\n",
    "\n",
    "for idx, ele in enumerate(flat_list):\n",
    "        flat_list[idx] = ele.replace(char, '').replace(char2, \"\").replace(char3,'').replace(char4,'')\n",
    "\n",
    "flat_list\n",
    "\n",
    "unique_amens = set(flat_list)"
   ]
  },
  {
   "cell_type": "code",
   "execution_count": null,
   "id": "2c36e6c6",
   "metadata": {},
   "outputs": [],
   "source": [
    "unique_amens"
   ]
  },
  {
   "cell_type": "code",
   "execution_count": null,
   "id": "c43037bc",
   "metadata": {},
   "outputs": [],
   "source": [
    "\n",
    "unique_amens.remove('translation missing: en.hosting_amenity_49')\n",
    "\n",
    "unique_amens.remove('translation missing: en.hosting_amenity_50')\n",
    "\n",
    "unique_amens.remove('')"
   ]
  },
  {
   "cell_type": "code",
   "execution_count": null,
   "id": "3a2bdd5a",
   "metadata": {},
   "outputs": [],
   "source": [
    "\n",
    "unique_amens"
   ]
  },
  {
   "cell_type": "code",
   "execution_count": null,
   "id": "5fa272c8",
   "metadata": {},
   "outputs": [],
   "source": [
    "\n",
    "dumms = listings.amenities.str.get_dummies(sep = \",\")\n",
    "\n",
    "dumms.columns = dumms.columns.astype(str).str.replace(r'[\"\"]', \"\")\n",
    "\n",
    "dumms\n"
   ]
  },
  {
   "cell_type": "code",
   "execution_count": null,
   "id": "1738a481",
   "metadata": {},
   "outputs": [],
   "source": [
    "\n",
    "amen_dums = dumms.drop(columns=[col for col in dumms.columns if col not in unique_amens])\n",
    "\n",
    "amen_dums"
   ]
  },
  {
   "cell_type": "code",
   "execution_count": null,
   "id": "982cea3a",
   "metadata": {},
   "outputs": [],
   "source": [
    "amen_dums = amen_dums.reset_index(drop=True)"
   ]
  },
  {
   "cell_type": "code",
   "execution_count": null,
   "id": "cefe61af",
   "metadata": {},
   "outputs": [],
   "source": [
    "listings = listings.join(amen_dums)"
   ]
  },
  {
   "cell_type": "code",
   "execution_count": null,
   "id": "768e80d4",
   "metadata": {},
   "outputs": [],
   "source": [
    "# Let's get value counts for al of the dummy variables\n",
    "amen_dums.apply(pd.Series.value_counts)"
   ]
  },
  {
   "cell_type": "code",
   "execution_count": null,
   "id": "166555e9",
   "metadata": {},
   "outputs": [],
   "source": [
    "#Some variables have almost no variation in the data"
   ]
  },
  {
   "cell_type": "code",
   "execution_count": null,
   "id": "3ac62042",
   "metadata": {},
   "outputs": [],
   "source": [
    "listings = listings.replace(',','', regex=True)"
   ]
  },
  {
   "cell_type": "code",
   "execution_count": null,
   "id": "5aade995",
   "metadata": {},
   "outputs": [],
   "source": [
    "listings = listings.replace('&','', regex=True)"
   ]
  },
  {
   "cell_type": "code",
   "execution_count": null,
   "id": "4fe4bc20",
   "metadata": {},
   "outputs": [],
   "source": [
    "listings = listings.replace('$','', regex=True)"
   ]
  },
  {
   "cell_type": "code",
   "execution_count": null,
   "id": "8dfff9a4",
   "metadata": {},
   "outputs": [],
   "source": [
    "listings.shape"
   ]
  },
  {
   "cell_type": "code",
   "execution_count": null,
   "id": "ec33f0a6",
   "metadata": {},
   "outputs": [],
   "source": [
    "\"\"\" This variable will take a variable encoded as 't' or 'f' and return it as '1' or '0'\n",
    "\n",
    "Args - col(str): A variable encoded as 't' or 'f' to denote 'true' or 'false'\n",
    "       \n",
    "Returns - col(Int): Returns col encoded as '1' in place of 't' and '0' instead of 'f'\n",
    "\"\"\"\n",
    "\n",
    "def binary(col): \n",
    "    return col.map(dict(t=1, f=0))"
   ]
  },
  {
   "cell_type": "code",
   "execution_count": null,
   "id": "cbedc965",
   "metadata": {},
   "outputs": [],
   "source": [
    "listings[['instant_bookable', 'host_is_superhost', 'host_has_profile_pic', 'is_location_exact']]=listings[['instant_bookable', 'host_is_superhost', 'host_has_profile_pic',  'is_location_exact']].apply(binary)"
   ]
  },
  {
   "cell_type": "code",
   "execution_count": null,
   "id": "0c2ffc8d",
   "metadata": {},
   "outputs": [],
   "source": [
    "listings.head()"
   ]
  },
  {
   "cell_type": "code",
   "execution_count": null,
   "id": "8bd51568",
   "metadata": {},
   "outputs": [],
   "source": [
    "listings['property_type'].value_counts()"
   ]
  },
  {
   "cell_type": "code",
   "execution_count": null,
   "id": "ad6f3ff1",
   "metadata": {},
   "outputs": [],
   "source": [
    "listings['property_type'] = listings['property_type'].apply(lambda x: 2 if x =='House' else 2 if x == 'Townhouse' else 1 if\n",
    "                                                           x ==' Apartment' else 1 if x=='Condominium' else 0)"
   ]
  },
  {
   "cell_type": "code",
   "execution_count": null,
   "id": "b8e132e9",
   "metadata": {},
   "outputs": [],
   "source": [
    "listings['cancellation_policy'].value_counts()"
   ]
  },
  {
   "cell_type": "code",
   "execution_count": null,
   "id": "3584d694",
   "metadata": {},
   "outputs": [],
   "source": [
    "listings['cancellation_policy'] = listings['cancellation_policy'].apply(lambda x: 3 if x =='super_strict_30' else 2 if x =='strict'\n",
    "                                                        else 1 if x=='moderate' else 0)"
   ]
  },
  {
   "cell_type": "code",
   "execution_count": null,
   "id": "b90460ee",
   "metadata": {},
   "outputs": [],
   "source": [
    "listings.head()"
   ]
  },
  {
   "cell_type": "code",
   "execution_count": null,
   "id": "2605b64b",
   "metadata": {},
   "outputs": [],
   "source": [
    "listings['room_type'].value_counts()"
   ]
  },
  {
   "cell_type": "code",
   "execution_count": null,
   "id": "32341856",
   "metadata": {},
   "outputs": [],
   "source": [
    "room = pd.get_dummies(listings['room_type'], prefix='room', drop_first=True)"
   ]
  },
  {
   "cell_type": "code",
   "execution_count": null,
   "id": "6d48aca5",
   "metadata": {},
   "outputs": [],
   "source": [
    "room = room.reset_index(drop=True)"
   ]
  },
  {
   "cell_type": "code",
   "execution_count": null,
   "id": "20d91e10",
   "metadata": {},
   "outputs": [],
   "source": [
    "listings = listings.join(room)"
   ]
  },
  {
   "cell_type": "code",
   "execution_count": null,
   "id": "0cde1502",
   "metadata": {},
   "outputs": [],
   "source": [
    "listings['bed_type'].value_counts()"
   ]
  },
  {
   "cell_type": "code",
   "execution_count": null,
   "id": "b518f0aa",
   "metadata": {},
   "outputs": [],
   "source": [
    "bed = pd.get_dummies(listings['bed_type'], prefix ='bed', drop_first=True)"
   ]
  },
  {
   "cell_type": "code",
   "execution_count": null,
   "id": "20ca5696",
   "metadata": {},
   "outputs": [],
   "source": [
    "bed = bed.reset_index(drop=True)"
   ]
  },
  {
   "cell_type": "code",
   "execution_count": null,
   "id": "fe1860d7",
   "metadata": {},
   "outputs": [],
   "source": [
    "listings = listings.join(bed)"
   ]
  },
  {
   "cell_type": "code",
   "execution_count": null,
   "id": "ce317c58",
   "metadata": {},
   "outputs": [],
   "source": [
    "listings.head()"
   ]
  },
  {
   "cell_type": "code",
   "execution_count": null,
   "id": "a7e5bbed",
   "metadata": {},
   "outputs": [],
   "source": [
    "listings.info()"
   ]
  },
  {
   "cell_type": "code",
   "execution_count": null,
   "id": "002c6e1a",
   "metadata": {},
   "outputs": [],
   "source": [
    "listings['cleaning_fee'].value_counts()"
   ]
  },
  {
   "cell_type": "code",
   "execution_count": null,
   "id": "b8d2e379",
   "metadata": {},
   "outputs": [],
   "source": [
    "#Security deposit and cleaning fee still have dollar signs. Need to be converted to numeric type before missinga data can be filled"
   ]
  },
  {
   "cell_type": "code",
   "execution_count": null,
   "id": "1ae12295",
   "metadata": {},
   "outputs": [],
   "source": [
    "listings['security_deposit']= listings['security_deposit'].str.replace('$','', regex=True)"
   ]
  },
  {
   "cell_type": "code",
   "execution_count": null,
   "id": "9a6acfdf",
   "metadata": {},
   "outputs": [],
   "source": [
    "listings['cleaning_fee']= listings['cleaning_fee'].str.replace('$','', regex=True)"
   ]
  },
  {
   "cell_type": "code",
   "execution_count": null,
   "id": "f76ca775",
   "metadata": {},
   "outputs": [],
   "source": [
    "listings['security_deposit'] = listings['security_deposit'].astype('float')"
   ]
  },
  {
   "cell_type": "code",
   "execution_count": null,
   "id": "035d754b",
   "metadata": {},
   "outputs": [],
   "source": [
    "listings['cleaning_fee'] = listings['cleaning_fee'].astype('float')"
   ]
  },
  {
   "cell_type": "code",
   "execution_count": null,
   "id": "0d711b8c",
   "metadata": {},
   "outputs": [],
   "source": [
    "#Take the average values of 'cleaning_fee' and 'security_deposit' for each number of bedrooms. These will feed into a function that imputes missing data using average grouped by the 'bedrooms' variable\n",
    "impute_mean_deposit = listings.groupby('bedrooms', dropna=False).mean()['security_deposit'] \n",
    "impute_mean_cleaning = listings.groupby('bedrooms', dropna=False).mean()['cleaning_fee']"
   ]
  },
  {
   "cell_type": "code",
   "execution_count": null,
   "id": "711c5871",
   "metadata": {},
   "outputs": [],
   "source": [
    "\"\"\" This function is used to impute missing values for the 'security_deposit' variable, using the average value of 'security_deposit' for each value of the 'bedrooms' variable\n",
    "\n",
    "Args - bedrooms (float): This is the 'bedrooms' varibale\n",
    "       fee (float): This is the security deposit variable\n",
    "\n",
    "Returns - fee (float): This is the security deposit variable with missing values imputed\n",
    "\n",
    "Example - if the average security deposit for a three bedroom property is $20, then for a 3 bedroom property with missing data in the security deposit variable the function will impute a value of $20\n",
    "\"\"\"\n",
    "\n",
    "def impute_deposit (bedrooms, deposit):\n",
    "    if np.isnan(deposit):\n",
    "        return impute_mean_deposit[bedrooms]\n",
    "    else:\n",
    "        return deposit"
   ]
  },
  {
   "cell_type": "code",
   "execution_count": null,
   "id": "7f86c3e7",
   "metadata": {},
   "outputs": [],
   "source": [
    "listings['security_deposit'] = listings.apply(lambda x: impute_deposit(x['bedrooms'], x['security_deposit']), axis=1)"
   ]
  },
  {
   "cell_type": "code",
   "execution_count": null,
   "id": "ef69a3f0",
   "metadata": {},
   "outputs": [],
   "source": [
    "\"\"\" This function is used to impute missing values for the 'cleaning_fee' variable, using the average value of 'cleaning_fee' for each value of the 'bedrooms' variable\n",
    "\n",
    "Args - bedrooms (float): This is the 'bedrooms' varibale\n",
    "       fee (float): This is the cleaning fee variable\n",
    "\n",
    "Returns - fee (float): This is the cleaning fee variable with missing values imputed\n",
    "\n",
    "Example - if the average cleaning fee for a three bedroom property is $20, then for a 3 bedroom property with missing data in the cleaning fee variable the function will impute a value of $20\n",
    "\"\"\"\n",
    "\n",
    "def impute_cleaning (bedrooms,fee):\n",
    "    if np.isnan(fee):\n",
    "        return impute_mean_cleaning[bedrooms]\n",
    "    else:\n",
    "        return fee"
   ]
  },
  {
   "cell_type": "code",
   "execution_count": null,
   "id": "16843bf5",
   "metadata": {},
   "outputs": [],
   "source": [
    "listings['cleaning_fee'] = listings.apply(lambda x: impute_cleaning(x['bedrooms'], x['cleaning_fee']), axis=1)"
   ]
  },
  {
   "cell_type": "code",
   "execution_count": null,
   "id": "cd65f1b5",
   "metadata": {},
   "outputs": [],
   "source": [
    "listings.head()"
   ]
  },
  {
   "cell_type": "code",
   "execution_count": null,
   "id": "1c8e927f",
   "metadata": {},
   "outputs": [],
   "source": [
    "listings.info()"
   ]
  },
  {
   "cell_type": "code",
   "execution_count": null,
   "id": "f75da05d",
   "metadata": {},
   "outputs": [],
   "source": [
    "listings = listings.drop(['room_type', 'bed_type', 'amenities'], axis=1)"
   ]
  },
  {
   "cell_type": "code",
   "execution_count": null,
   "id": "db5f6ca9",
   "metadata": {},
   "outputs": [],
   "source": [
    "listings = listings.dropna()"
   ]
  },
  {
   "cell_type": "code",
   "execution_count": null,
   "id": "1be37c6c",
   "metadata": {},
   "outputs": [],
   "source": [
    "listings.shape"
   ]
  },
  {
   "cell_type": "code",
   "execution_count": null,
   "id": "14fb6618",
   "metadata": {},
   "outputs": [],
   "source": [
    "listings.info() # consistent observations across all variables"
   ]
  },
  {
   "cell_type": "code",
   "execution_count": null,
   "id": "129f7ab9",
   "metadata": {},
   "outputs": [],
   "source": [
    "Y = listings['clean_price']\n",
    "X = listings.drop(['clean_price'], axis=1)\n",
    "X = sm.add_constant(X)\n",
    "\n",
    "model = sm.OLS(Y.astype('float'), X.astype('float')).fit()"
   ]
  },
  {
   "cell_type": "code",
   "execution_count": null,
   "id": "5793148e",
   "metadata": {},
   "outputs": [],
   "source": [
    "print(model.summary())"
   ]
  },
  {
   "cell_type": "code",
   "execution_count": null,
   "id": "fa4a594f",
   "metadata": {},
   "outputs": [],
   "source": [
    "# Note possible multicollinearity - let's try some other iterations of model and look out for improvements / consistency"
   ]
  },
  {
   "cell_type": "code",
   "execution_count": null,
   "id": "5909b283",
   "metadata": {},
   "outputs": [],
   "source": [
    "#Firstly let's check out Variance Inflation Factors"
   ]
  },
  {
   "cell_type": "code",
   "execution_count": null,
   "id": "5974d4c4",
   "metadata": {},
   "outputs": [],
   "source": [
    "from statsmodels.stats.outliers_influence import variance_inflation_factor"
   ]
  },
  {
   "cell_type": "code",
   "execution_count": null,
   "id": "2b5fd236",
   "metadata": {},
   "outputs": [],
   "source": [
    "vif_data = pd.DataFrame()\n",
    "vif_data[\"feature\"] = X.columns\n",
    "vif_data[\"VIF\"] = [variance_inflation_factor(X.values, i) for i in range(len(X.columns))]"
   ]
  },
  {
   "cell_type": "code",
   "execution_count": null,
   "id": "7fa6617e",
   "metadata": {},
   "outputs": [],
   "source": [
    "pd.set_option('display.max_rows', None)\n",
    "vif_data"
   ]
  },
  {
   "cell_type": "code",
   "execution_count": null,
   "id": "e06245c4",
   "metadata": {},
   "outputs": [],
   "source": [
    "# Based on the Variance Inflation Factors, we can remove some of the variables with the highest multicollinearity\n",
    "X2 = X.drop(['beds', 'Hair Dryer', '24-Hour Check-in', 'Dryer', 'Laptop Friendly Workspace',  'Pets live on this property', 'Dog(s)', 'Washer', 'Iron', 'Hangers', 'Shampoo', 'bed_Futon'], axis=1)\n",
    "X2 = sm.add_constant(X2)\n",
    "\n",
    "model2 = sm.OLS(Y.astype('float'), X2.astype('float')).fit()"
   ]
  },
  {
   "cell_type": "code",
   "execution_count": null,
   "id": "34f01114",
   "metadata": {},
   "outputs": [],
   "source": [
    "print(model2.summary())"
   ]
  },
  {
   "cell_type": "code",
   "execution_count": null,
   "id": "ea40f6bc",
   "metadata": {},
   "outputs": [],
   "source": [
    "second_vif = pd.DataFrame()\n",
    "second_vif[\"feature\"] = X2.columns\n",
    "second_vif[\"VIF\"] = [variance_inflation_factor(X2.values, i) for i in range(len(X2.columns))]"
   ]
  },
  {
   "cell_type": "code",
   "execution_count": null,
   "id": "41e7e1de",
   "metadata": {},
   "outputs": [],
   "source": [
    "second_vif"
   ]
  },
  {
   "cell_type": "code",
   "execution_count": null,
   "id": "e33346d2",
   "metadata": {},
   "outputs": [],
   "source": [
    "# Lets try removing variables that are insignificant or could be apriori problematic\n",
    "# Also, given the high VIF for the constant, let's try removing it\n",
    "X2 = X.drop(['const','beds', 'Hair Dryer', '24-Hour Check-in', 'Dryer', 'Laptop Friendly Workspace',  'Pets live on this property', 'Dog(s)', 'Washer', 'Iron', 'Hangers', 'Shampoo', 'bed_Futon'], axis=1)\n",
    "no_cons = sm.OLS(Y.astype('float'), X2.astype('float')).fit()"
   ]
  },
  {
   "cell_type": "code",
   "execution_count": null,
   "id": "ad704663",
   "metadata": {},
   "outputs": [],
   "source": [
    "print(no_cons.summary())"
   ]
  },
  {
   "cell_type": "code",
   "execution_count": null,
   "id": "37ba5917",
   "metadata": {},
   "outputs": [],
   "source": [
    "nocons_vif = pd.DataFrame()\n",
    "nocons_vif[\"feature\"] = X2.columns\n",
    "nocons_vif['VIF'] = [variance_inflation_factor(X2.values, i) for i in range (len(X2.columns))]"
   ]
  },
  {
   "cell_type": "code",
   "execution_count": null,
   "id": "c7a1928d",
   "metadata": {},
   "outputs": [],
   "source": [
    "nocons_vif"
   ]
  },
  {
   "cell_type": "code",
   "execution_count": null,
   "id": "256706aa",
   "metadata": {},
   "outputs": [],
   "source": [
    "#Let's try dropping the insignificant variables\n",
    "X5 = X2.drop(['bathrooms', 'security_deposit', 'maximum_nights', 'Buzzer/Wireless Intercom', 'Carbon Monoxide Detector',\n",
    "             'Cable TV', 'First Aid Kit', 'Fire Extinguisher', 'Free Parking on Premises', 'Hot Tub', 'Indoor Fireplace',\n",
    "             'Lock on Bedroom Door', 'Other pet(s)', 'Safety Card', 'Smoke Detector', 'Smoking Allowed', 'Suitable for Events',\n",
    "             'Wheelchair Accessible', 'Breakfast', 'Cat(s)', 'Gym', 'Heating', 'Internet', 'Kitchen', 'Pool', 'room_Private room',\n",
    "             'room_Shared room', 'bed_Couch', 'bed_Pull-out Sofa', 'bed_Real Bed'], axis=1)"
   ]
  },
  {
   "cell_type": "code",
   "execution_count": null,
   "id": "35eed70f",
   "metadata": {},
   "outputs": [],
   "source": [
    "no_cons2 = sm.OLS(Y.astype('float'), X5.astype('float')).fit()"
   ]
  },
  {
   "cell_type": "code",
   "execution_count": null,
   "id": "1ab926e1",
   "metadata": {},
   "outputs": [],
   "source": [
    "print(no_cons2.summary())"
   ]
  },
  {
   "cell_type": "code",
   "execution_count": null,
   "id": "739394a5",
   "metadata": {},
   "outputs": [],
   "source": []
  },
  {
   "cell_type": "code",
   "execution_count": null,
   "id": "6c116935",
   "metadata": {},
   "outputs": [],
   "source": []
  },
  {
   "cell_type": "code",
   "execution_count": null,
   "id": "4a6cde6f",
   "metadata": {},
   "outputs": [],
   "source": []
  }
 ],
 "metadata": {
  "kernelspec": {
   "display_name": "Python 3 (ipykernel)",
   "language": "python",
   "name": "python3"
  },
  "language_info": {
   "codemirror_mode": {
    "name": "ipython",
    "version": 3
   },
   "file_extension": ".py",
   "mimetype": "text/x-python",
   "name": "python",
   "nbconvert_exporter": "python",
   "pygments_lexer": "ipython3",
   "version": "3.9.12"
  }
 },
 "nbformat": 4,
 "nbformat_minor": 5
}

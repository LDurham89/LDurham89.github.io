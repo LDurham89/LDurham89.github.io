{
 "cells": [
  {
   "cell_type": "code",
   "execution_count": null,
   "id": "83a5e252",
   "metadata": {},
   "outputs": [],
   "source": [
    "import pandas as pd\n",
    "import numpy as np\n",
    "import matplotlib.pyplot as plt\n",
    "import seaborn as sns\n",
    "import re\n",
    "import nltk\n",
    "from nltk.corpus import stopwords\n",
    "from nltk.tokenize import word_tokenize\n",
    "#from nltk.tokenize import sent_tokenize\n",
    "from nltk.stem import WordNetLemmatizer\n",
    "from datetime import date\n",
    "\n",
    "import statsmodels.api as sm\n",
    "\n",
    "#from sklearn.model_selection import train_test_split\n",
    "#from sklearn.linear_model import LinearRegression\n",
    "#from sklearn import metrics\n",
    "\n",
    "#import re\n",
    "import nltk\n",
    "from nltk.corpus import stopwords\n",
    "from nltk.tokenize import word_tokenize\n",
    "from nltk.stem import WordNetLemmatizer\n",
    "from nltk.probability import FreqDist\n",
    "from nltk.util import ngrams\n",
    "from collections import Counter\n",
    "from vaderSentiment.vaderSentiment import SentimentIntensityAnalyzer"
   ]
  },
  {
   "cell_type": "code",
   "execution_count": null,
   "id": "7f48bba7",
   "metadata": {},
   "outputs": [],
   "source": [
    "#SET OUT THE QUESTIONS OF INTEREST\n",
    "\"\"\"\n",
    "1) Is there a difference in the average price per night of Airbnb's in Seattle and Boston?\n",
    "2) What are people saying about their stays in Boston and Seattle?\n",
    "3) When it comes to price, is it really all about location, location, location? Are downtown properties that much more expensive than those further out?\n",
    "4) What are the most important factors in deciding the price per night of an Airbnb and is city one of them?\n",
    "\n",
    "\"\"\""
   ]
  },
  {
   "cell_type": "code",
   "execution_count": null,
   "id": "4a5f0960",
   "metadata": {},
   "outputs": [],
   "source": [
    "# INTRODUCE THE DATA"
   ]
  },
  {
   "cell_type": "code",
   "execution_count": null,
   "id": "7f1ad1da",
   "metadata": {},
   "outputs": [],
   "source": [
    "# You will need to edit these steps for your own machine\n",
    "\n",
    "Sea_calendar = pd.read_csv('D:\\\\lori_python\\\\UDACITY\\\\Lesson 1 Intro to DS\\\\Project 1 blog post\\\\Data\\\\Seattle data\\\\calendar.csv')\n",
    "Sea_listings = pd.read_csv('D:\\\\lori_python\\\\UDACITY\\\\Lesson 1 Intro to DS\\\\Project 1 blog post\\\\Data\\\\Seattle data\\\\listings.csv')\n",
    "Sea_reviews = pd.read_csv('D:\\\\lori_python\\\\UDACITY\\\\Lesson 1 Intro to DS\\\\Project 1 blog post\\\\Data\\\\Seattle data\\\\reviews.csv')"
   ]
  },
  {
   "cell_type": "code",
   "execution_count": null,
   "id": "53573705",
   "metadata": {},
   "outputs": [],
   "source": [
    "#See comment above\n",
    "Bos_calendar = pd.read_csv('D:\\\\lori_python\\\\UDACITY\\\\Lesson 1 Intro to DS\\\\Project 1 blog post\\\\Data\\\\Boston data\\\\calendar.csv')\n",
    "Bos_listings = pd.read_csv('D:\\\\lori_python\\\\UDACITY\\\\Lesson 1 Intro to DS\\\\Project 1 blog post\\\\Data\\\\Boston data\\\\listings.csv')\n",
    "Bos_reviews = pd.read_csv('D:\\\\lori_python\\\\UDACITY\\\\Lesson 1 Intro to DS\\\\Project 1 blog post\\\\Data\\\\Boston data\\\\reviews.csv')"
   ]
  },
  {
   "cell_type": "code",
   "execution_count": null,
   "id": "c016759d",
   "metadata": {},
   "outputs": [],
   "source": [
    "pd.set_option('display.max_columns', 200)\n",
    "Sea_listings.head()"
   ]
  },
  {
   "cell_type": "code",
   "execution_count": null,
   "id": "dec17fce",
   "metadata": {},
   "outputs": [],
   "source": [
    "Sea_listings.columns"
   ]
  },
  {
   "cell_type": "code",
   "execution_count": null,
   "id": "92b695df",
   "metadata": {},
   "outputs": [],
   "source": [
    "Bos_listings.head()"
   ]
  },
  {
   "cell_type": "code",
   "execution_count": null,
   "id": "3b7c0a85",
   "metadata": {},
   "outputs": [],
   "source": [
    "# Let's get some idea of when the data is from and whether the different data sets all refer tyo sme pool of properties\n",
    "\n",
    "Sea_listings['last_scraped'].value_counts()\n",
    "\n",
    "Bos_listings['last_scraped'].value_counts()"
   ]
  },
  {
   "cell_type": "code",
   "execution_count": null,
   "id": "7c2f11ef",
   "metadata": {},
   "outputs": [],
   "source": [
    "\n",
    "Sea_reviews['date'].min()\n",
    "\n",
    "Sea_reviews['date'].max()"
   ]
  },
  {
   "cell_type": "code",
   "execution_count": null,
   "id": "62d59889",
   "metadata": {},
   "outputs": [],
   "source": [
    "Bos_reviews['date'].min()\n",
    "\n",
    "Bos_reviews['date'].max()"
   ]
  },
  {
   "cell_type": "code",
   "execution_count": null,
   "id": "15eca593",
   "metadata": {},
   "outputs": [],
   "source": [
    "#Let's check that the properties in the reviews data sets are the same as in the listings data\n",
    "Sea_ser1 = Sea_reviews['listing_id']\n",
    "Sea_ser2 = Sea_listings['id']\n",
    "Intersect = set(Sea_ser1) & set(Sea_ser2)\n",
    "print(len(Intersect))\n",
    "\n",
    "Sea_reviews['listing_id'].nunique() # From this we can conclude that all Seattle reviews relate to properties in the listings data set\n"
   ]
  },
  {
   "cell_type": "code",
   "execution_count": null,
   "id": "044a4503",
   "metadata": {},
   "outputs": [],
   "source": [
    "Bos_ser1 = Bos_reviews['listing_id']\n",
    "Bos_ser2 = Bos_listings['id']\n",
    "BIntersect = set(Bos_ser1) & set(Bos_ser2)\n",
    "print(len(BIntersect))\n",
    "\n",
    "Bos_reviews['listing_id'].nunique() # Again can conclude properties are the same in the two data sets"
   ]
  },
  {
   "cell_type": "code",
   "execution_count": null,
   "id": "4f6fd196",
   "metadata": {},
   "outputs": [],
   "source": []
  },
  {
   "cell_type": "code",
   "execution_count": null,
   "id": "3189f9d8",
   "metadata": {},
   "outputs": [],
   "source": [
    "# INTRODUCE Q1"
   ]
  },
  {
   "cell_type": "code",
   "execution_count": null,
   "id": "526419c5",
   "metadata": {},
   "outputs": [],
   "source": [
    "Sea_listings['price'] = Sea_listings['price'].str.replace(',', '')\n",
    "\n",
    "Sea_listings['price'] = Sea_listings['price'].str.replace('$', '')\n",
    "\n",
    "Sea_listings['price'] = Sea_listings['price'].str.replace(' ', '')\n",
    "\n",
    "Sea_listings['price'].head()\n",
    "\n",
    "Sea_listings['price'] = Sea_listings['price'].astype('float')"
   ]
  },
  {
   "cell_type": "code",
   "execution_count": null,
   "id": "f4b13bf3",
   "metadata": {},
   "outputs": [],
   "source": [
    "(np.sum(Sea_listings['price'].isnull()) / len(Sea_listings['price'])) * 100 # % missing values"
   ]
  },
  {
   "cell_type": "code",
   "execution_count": null,
   "id": "d58ca26c",
   "metadata": {},
   "outputs": [],
   "source": [
    "Sea_listings['price'].min()"
   ]
  },
  {
   "cell_type": "code",
   "execution_count": null,
   "id": "10987f64",
   "metadata": {},
   "outputs": [],
   "source": [
    "Sea_listings['price'].max()"
   ]
  },
  {
   "cell_type": "code",
   "execution_count": null,
   "id": "a21df8bf",
   "metadata": {},
   "outputs": [],
   "source": [
    "Sea_listings['price'].mean()"
   ]
  },
  {
   "cell_type": "code",
   "execution_count": null,
   "id": "6975c6b3",
   "metadata": {},
   "outputs": [],
   "source": [
    "Sea_listings['price_range($)'] = Sea_listings['price'].apply(lambda x:'<50' if x < 50 else '50-100' if x <100 else '100-150' if x <150 \n",
    "                                                 else '150-200' if x < 200 else '200-250' if x < 250 else '250-300' if x <300\n",
    "                                                     else '>300')"
   ]
  },
  {
   "cell_type": "code",
   "execution_count": null,
   "id": "ad610880",
   "metadata": {},
   "outputs": [],
   "source": [
    "Sea_listings['price_range($)'].value_counts()"
   ]
  },
  {
   "cell_type": "code",
   "execution_count": null,
   "id": "afc51d6b",
   "metadata": {},
   "outputs": [],
   "source": [
    "\"\"\"\n",
    "legend_map = {0.0: '<$50',\n",
    "              50.0: '$50-$100',\n",
    "             100.0: '$100-$150',\n",
    "             150.0: '$150-$200',\n",
    "             200.0: '$200-$250',\n",
    "             250.0: '$250-$300',\n",
    "             300.0: '>$300'}\n",
    "\"\"\""
   ]
  },
  {
   "cell_type": "code",
   "execution_count": null,
   "id": "1cbab02a",
   "metadata": {},
   "outputs": [],
   "source": [
    "plt.figure(figsize=(16,12))\n",
    "sns.scatterplot(x='longitude', y='latitude', data=Sea_listings,\n",
    "                hue='price_range($)', hue_order = ['<50', '50-100', '100-150', '150-200', '200-250', '250-300', '>300'], \n",
    "                palette='viridis').set(title=\"Map of Seattle Airbnb listings\")\n",
    "#plt.savefig('Seattle_Map2.png')"
   ]
  },
  {
   "cell_type": "code",
   "execution_count": null,
   "id": "ed41d757",
   "metadata": {},
   "outputs": [],
   "source": [
    "# Let's take the count for each neighbourhood to help with interpreting the map\n",
    "\n",
    "Sea_listings['neighbourhood'].value_counts()"
   ]
  },
  {
   "cell_type": "code",
   "execution_count": null,
   "id": "fb6792df",
   "metadata": {},
   "outputs": [],
   "source": [
    "# Boston map"
   ]
  },
  {
   "cell_type": "code",
   "execution_count": null,
   "id": "d61b4cda",
   "metadata": {},
   "outputs": [],
   "source": [
    "Bos_listings['price'] = Bos_listings['price'].str.replace(',', '')\n",
    "\n",
    "Bos_listings['price'] = Bos_listings['price'].str.replace('$', '')\n",
    "\n",
    "Bos_listings['price'] = Bos_listings['price'].str.replace(' ', '')\n",
    "\n",
    "Bos_listings['price'].head()\n",
    "\n",
    "Bos_listings['price'] = Bos_listings['price'].astype('float')"
   ]
  },
  {
   "cell_type": "code",
   "execution_count": null,
   "id": "09e80378",
   "metadata": {},
   "outputs": [],
   "source": [
    "(np.sum(Bos_listings['price'].isnull()) / len(Bos_listings['price'])) * 100 # % missing values"
   ]
  },
  {
   "cell_type": "code",
   "execution_count": null,
   "id": "27f364a5",
   "metadata": {},
   "outputs": [],
   "source": [
    "Bos_listings['price'].min()"
   ]
  },
  {
   "cell_type": "code",
   "execution_count": null,
   "id": "4ddb851b",
   "metadata": {},
   "outputs": [],
   "source": [
    "Bos_listings['price'].max()"
   ]
  },
  {
   "cell_type": "code",
   "execution_count": null,
   "id": "71faabcb",
   "metadata": {},
   "outputs": [],
   "source": [
    "Bos_listings['price'].mean()"
   ]
  },
  {
   "cell_type": "code",
   "execution_count": null,
   "id": "2531da84",
   "metadata": {},
   "outputs": [],
   "source": [
    "Bos_listings['price_range($)'] = Bos_listings['price'].apply(lambda x:'<50' if x < 50 else '50-100' if x <100 else '100-150' if x <150 \n",
    "                                                 else '150-200' if x < 200 else '200-250' if x < 250 else '250-300' if x <300\n",
    "                                                     else '>300')"
   ]
  },
  {
   "cell_type": "code",
   "execution_count": null,
   "id": "54f525be",
   "metadata": {},
   "outputs": [],
   "source": [
    "plt.figure(figsize=(16,12))\n",
    "sns.scatterplot(x='longitude', y='latitude', data=Bos_listings,\n",
    "                hue='price_range($)', hue_order = ['<50', '50-100', '100-150', '150-200', '200-250', '250-300', '>300'], \n",
    "                palette='viridis').set(title=\"Map of Seattle Airbnb listings\")\n",
    "# plt.savefig('Boston_Map6.png')"
   ]
  },
  {
   "cell_type": "code",
   "execution_count": null,
   "id": "dc9f046a",
   "metadata": {},
   "outputs": [],
   "source": [
    "Bos_listings['neighbourhood'].value_counts()"
   ]
  },
  {
   "cell_type": "code",
   "execution_count": null,
   "id": "b273e21e",
   "metadata": {},
   "outputs": [],
   "source": [
    "#In Seattle the downtown doesn't command the same premium as in Boston as the lighter dots are spread out, whereas in Boston anything that isn't central is a darker colour"
   ]
  },
  {
   "cell_type": "code",
   "execution_count": null,
   "id": "73fa6e5b",
   "metadata": {},
   "outputs": [],
   "source": []
  },
  {
   "cell_type": "code",
   "execution_count": null,
   "id": "72cc7c9a",
   "metadata": {},
   "outputs": [],
   "source": [
    "#Q2. what are people saying about the properties in each city?"
   ]
  },
  {
   "cell_type": "code",
   "execution_count": null,
   "id": "650db91a",
   "metadata": {},
   "outputs": [],
   "source": [
    "len(Sea_reviews)"
   ]
  },
  {
   "cell_type": "code",
   "execution_count": null,
   "id": "20a82080",
   "metadata": {},
   "outputs": [],
   "source": [
    "len(Bos_reviews)"
   ]
  },
  {
   "cell_type": "code",
   "execution_count": null,
   "id": "ad2e7bd1",
   "metadata": {},
   "outputs": [],
   "source": [
    "np.sum(Sea_reviews.isnull())"
   ]
  },
  {
   "cell_type": "code",
   "execution_count": null,
   "id": "ee195eba",
   "metadata": {},
   "outputs": [],
   "source": [
    "np.sum(Bos_reviews.isnull())"
   ]
  },
  {
   "cell_type": "code",
   "execution_count": null,
   "id": "8b4bac1c",
   "metadata": {},
   "outputs": [],
   "source": [
    "Sea_reviews = Sea_reviews.dropna()\n",
    "Bos_reviews= Bos_reviews.dropna()"
   ]
  },
  {
   "cell_type": "code",
   "execution_count": null,
   "id": "06731f57",
   "metadata": {},
   "outputs": [],
   "source": [
    "#When you look at reviews you often find that there are automated posting when a reservaton is cancelled. Let's remove these\n",
    "substring = [\"automated posting\"]\n",
    "Sea_reviews = Sea_reviews[~Sea_reviews.comments.str.contains('|'.join(substring))]\n",
    "print(len(Sea_reviews))"
   ]
  },
  {
   "cell_type": "code",
   "execution_count": null,
   "id": "dad7124a",
   "metadata": {},
   "outputs": [],
   "source": [
    "Bos_reviews = Bos_reviews[~Bos_reviews.comments.str.contains('|'.join(substring))]\n",
    "print(len(Bos_reviews))"
   ]
  },
  {
   "cell_type": "code",
   "execution_count": null,
   "id": "205c5964",
   "metadata": {},
   "outputs": [],
   "source": [
    "Sea_reviews.head()"
   ]
  },
  {
   "cell_type": "code",
   "execution_count": null,
   "id": "8534d1d5",
   "metadata": {},
   "outputs": [],
   "source": [
    "Bos_reviews.head()"
   ]
  },
  {
   "cell_type": "code",
   "execution_count": null,
   "id": "a48cf98c",
   "metadata": {},
   "outputs": [],
   "source": [
    "Sea_reviews['comments'] = Sea_reviews['comments'].str.lower()\n",
    "Bos_reviews['comments'] = Bos_reviews['comments'].str.lower()"
   ]
  },
  {
   "cell_type": "code",
   "execution_count": null,
   "id": "97936988",
   "metadata": {},
   "outputs": [],
   "source": [
    "\"\"\" This function takes a text input and prepares it for analysis by creating a token for each element, removing common words, lemmatizing the tokens ans then recombining them into one string per row \"\"\"\n",
    "\n",
    "def clean_text(text):\n",
    "    # Tokenize the text\n",
    "    tokens = word_tokenize(text.lower())\n",
    "    \n",
    "    # Remove stopwords\n",
    "    stop_words = set(stopwords.words('english'))\n",
    "    filtered_tokens = [token for token in tokens if token not in stop_words]\n",
    "    \n",
    "    # Lemmatize the tokens\n",
    "    lemmatizer = WordNetLemmatizer()\n",
    "    lemmatized_tokens = [lemmatizer.lemmatize(token) for token in filtered_tokens]\n",
    "    \n",
    "    # Join the tokens back into a string\n",
    "    clean_text = ' '.join(lemmatized_tokens)\n",
    "    \n",
    "    return clean_text"
   ]
  },
  {
   "cell_type": "code",
   "execution_count": null,
   "id": "52e67771",
   "metadata": {},
   "outputs": [],
   "source": [
    "#Preprocessing"
   ]
  },
  {
   "cell_type": "code",
   "execution_count": null,
   "id": "9660a56c",
   "metadata": {},
   "outputs": [],
   "source": [
    "Cleaned_SText = Sea_reviews['comments'].apply(clean_text)\n",
    "S_reviews = pd.DataFrame({'cleaned text': Cleaned_SText})\n",
    "\n",
    "S_reviews.head()"
   ]
  },
  {
   "cell_type": "code",
   "execution_count": null,
   "id": "1bf32559",
   "metadata": {},
   "outputs": [],
   "source": [
    "Cleaned_BText = Bos_reviews['comments'].apply(clean_text)\n",
    "B_reviews = pd.DataFrame({'cleaned text': Cleaned_BText})\n"
   ]
  },
  {
   "cell_type": "code",
   "execution_count": null,
   "id": "08fd71c1",
   "metadata": {},
   "outputs": [],
   "source": [
    "#Find most common words in reviews"
   ]
  },
  {
   "cell_type": "code",
   "execution_count": null,
   "id": "8a9625f4",
   "metadata": {},
   "outputs": [],
   "source": []
  },
  {
   "cell_type": "code",
   "execution_count": null,
   "id": "24d4de24",
   "metadata": {},
   "outputs": [],
   "source": []
  },
  {
   "cell_type": "code",
   "execution_count": null,
   "id": "c445e7ed",
   "metadata": {},
   "outputs": [],
   "source": []
  },
  {
   "cell_type": "code",
   "execution_count": null,
   "id": "43593b1d",
   "metadata": {},
   "outputs": [],
   "source": []
  },
  {
   "cell_type": "code",
   "execution_count": null,
   "id": "29a954ad",
   "metadata": {},
   "outputs": [],
   "source": [
    "#Analyse sentiment # PLUS THERE WILL BE DUPLICATE CODE UNDER HERE"
   ]
  },
  {
   "cell_type": "code",
   "execution_count": null,
   "id": "0aa9142d",
   "metadata": {},
   "outputs": [],
   "source": [
    "sio = SentimentIntensityAnalyzer()"
   ]
  },
  {
   "cell_type": "code",
   "execution_count": null,
   "id": "97958ead",
   "metadata": {},
   "outputs": [],
   "source": [
    "Sea_reviews['scores'] = Sea_reviews['rejoined'].apply(lambda review: sio.polarity_scores(review))\n",
    "Sea_reviews['compound']  = Sea_reviews['scores'].apply(lambda score_dict: score_dict['compound'])\n",
    "Sea_reviews['comp_score'] = Sea_reviews['compound'].apply(lambda c: 'pos' if c >0 else 'neut' if c == 0 else 'neg')"
   ]
  },
  {
   "cell_type": "code",
   "execution_count": null,
   "id": "464d277a",
   "metadata": {},
   "outputs": [],
   "source": [
    "Sea_reviews['comp_score'].value_counts()"
   ]
  },
  {
   "cell_type": "code",
   "execution_count": null,
   "id": "c519013e",
   "metadata": {},
   "outputs": [],
   "source": [
    "S_Percent_Revs = (Sea_reviews['comp_score'].value_counts() / len(Sea_reviews['comp_score'])) *100"
   ]
  },
  {
   "cell_type": "code",
   "execution_count": null,
   "id": "c044d785",
   "metadata": {},
   "outputs": [],
   "source": [
    "S_Percent_Revs "
   ]
  },
  {
   "cell_type": "code",
   "execution_count": null,
   "id": "47cca0dd",
   "metadata": {},
   "outputs": [],
   "source": [
    "# Look at most frequent words and phrases"
   ]
  },
  {
   "cell_type": "code",
   "execution_count": null,
   "id": "ffadc78a",
   "metadata": {},
   "outputs": [],
   "source": [
    "All_S_Words = ' '.join([word for word in Sea_reviews['rejoined']])"
   ]
  },
  {
   "cell_type": "code",
   "execution_count": null,
   "id": "3cf3d372",
   "metadata": {},
   "outputs": [],
   "source": [
    "All_S_Words"
   ]
  },
  {
   "cell_type": "code",
   "execution_count": null,
   "id": "a1e18b0e",
   "metadata": {},
   "outputs": [],
   "source": [
    "S_words = nltk.word_tokenize(All_S_Words)\n",
    "S_fd = FreqDist(S_words)"
   ]
  },
  {
   "cell_type": "code",
   "execution_count": null,
   "id": "013122be",
   "metadata": {},
   "outputs": [],
   "source": [
    "S_fd.most_common(30)"
   ]
  },
  {
   "cell_type": "code",
   "execution_count": null,
   "id": "293dbdec",
   "metadata": {},
   "outputs": [],
   "source": [
    "S_phrases = Counter(list(ngrams(S_words, 3)))\n",
    "S_phrases.most_common(5)"
   ]
  },
  {
   "cell_type": "code",
   "execution_count": null,
   "id": "216cce80",
   "metadata": {},
   "outputs": [],
   "source": [
    "#Same again for Boston data"
   ]
  },
  {
   "cell_type": "code",
   "execution_count": null,
   "id": "d7fd4fa2",
   "metadata": {},
   "outputs": [],
   "source": [
    "Bos_reviews['tokenized'] = Bos_reviews.apply(lambda x: token(x['comments']), axis = 1) \n",
    "Bos_reviews['no_stops'] = Bos_reviews.apply(lambda x: remove_stops(x['tokenized']), axis = 1)\n",
    "Bos_reviews['lemmed'] = Bos_reviews.apply(lambda x: lemmatize(x['no_stops']), axis =1) \n",
    "Bos_reviews['rejoined'] = Bos_reviews.apply(lambda x: rejoined(x['lemmed']), axis=1)"
   ]
  },
  {
   "cell_type": "code",
   "execution_count": null,
   "id": "ac2b0464",
   "metadata": {},
   "outputs": [],
   "source": [
    "Bos_reviews['scores'] = Bos_reviews['rejoined'].apply(lambda review: sio.polarity_scores(review))\n",
    "Bos_reviews['compound']  = Bos_reviews['scores'].apply(lambda score_dict: score_dict['compound'])"
   ]
  },
  {
   "cell_type": "code",
   "execution_count": null,
   "id": "a9eae749",
   "metadata": {},
   "outputs": [],
   "source": [
    "Bos_reviews['comp_score'] = Bos_reviews['compound'].apply(lambda c: 'pos' if c >0 else 'neut' if c==0 else 'neg')"
   ]
  },
  {
   "cell_type": "code",
   "execution_count": null,
   "id": "377d46ac",
   "metadata": {},
   "outputs": [],
   "source": [
    "B_Percent_Revs = (Bos_reviews['comp_score'].value_counts() / len(Bos_reviews['comp_score'])) *100"
   ]
  },
  {
   "cell_type": "code",
   "execution_count": null,
   "id": "45384919",
   "metadata": {},
   "outputs": [],
   "source": [
    "B_Percent_Revs"
   ]
  },
  {
   "cell_type": "code",
   "execution_count": null,
   "id": "d9835f07",
   "metadata": {},
   "outputs": [],
   "source": [
    "All_B_Words = ' '.join([word for word in Bos_reviews['rejoined']])"
   ]
  },
  {
   "cell_type": "code",
   "execution_count": null,
   "id": "afd69b54",
   "metadata": {},
   "outputs": [],
   "source": [
    "B_words = nltk.word_tokenize(All_B_Words)\n",
    "B_fd = FreqDist(B_words)"
   ]
  },
  {
   "cell_type": "code",
   "execution_count": null,
   "id": "361be3f9",
   "metadata": {},
   "outputs": [],
   "source": [
    "B_fd.most_common(30)"
   ]
  },
  {
   "cell_type": "code",
   "execution_count": null,
   "id": "711eebf1",
   "metadata": {},
   "outputs": [],
   "source": [
    "B_Phrases = Counter(list(ngrams(B_words,3)))\n",
    "B_Phrases.most_common(5)"
   ]
  },
  {
   "cell_type": "code",
   "execution_count": null,
   "id": "bec57dc5",
   "metadata": {},
   "outputs": [],
   "source": []
  },
  {
   "cell_type": "code",
   "execution_count": null,
   "id": "204fd7da",
   "metadata": {},
   "outputs": [],
   "source": []
  },
  {
   "cell_type": "code",
   "execution_count": null,
   "id": "6e3137ac",
   "metadata": {},
   "outputs": [],
   "source": [
    "#  Q3 STARTS HERE - What factors determine the price of stays, is there a difference between the two cities?"
   ]
  },
  {
   "cell_type": "code",
   "execution_count": null,
   "id": "7a8149bc",
   "metadata": {},
   "outputs": [],
   "source": [
    "Sea_listings.shape"
   ]
  },
  {
   "cell_type": "code",
   "execution_count": null,
   "id": "5a005a38",
   "metadata": {},
   "outputs": [],
   "source": [
    "Bos_listings.shape"
   ]
  },
  {
   "cell_type": "code",
   "execution_count": null,
   "id": "bf974702",
   "metadata": {},
   "outputs": [],
   "source": [
    "a = np.setdiff1d(Sea_listings.columns, Bos_listings.columns)\n",
    "print (a) # Columns that are in Seattle data but not Boston"
   ]
  },
  {
   "cell_type": "code",
   "execution_count": null,
   "id": "b13c29bd",
   "metadata": {},
   "outputs": [],
   "source": [
    "b = np.setdiff1d(Bos_listings.columns, Sea_listings.columns)\n",
    "print (b) # Columns that are in Boston data but not Seattle"
   ]
  },
  {
   "cell_type": "code",
   "execution_count": null,
   "id": "fd553f9f",
   "metadata": {},
   "outputs": [],
   "source": [
    "Bos_listings = Bos_listings.drop(['access', 'house_rules', 'interaction'], axis=1)"
   ]
  },
  {
   "cell_type": "code",
   "execution_count": null,
   "id": "39a620fa",
   "metadata": {},
   "outputs": [],
   "source": [
    "Bos_listings.shape"
   ]
  },
  {
   "cell_type": "code",
   "execution_count": null,
   "id": "2a560bb3",
   "metadata": {},
   "outputs": [],
   "source": [
    "Sea_listings['Boston_City'] = 0"
   ]
  },
  {
   "cell_type": "code",
   "execution_count": null,
   "id": "9d9bc122",
   "metadata": {},
   "outputs": [],
   "source": [
    "Sea_listings['Boston_City'].value_counts()"
   ]
  },
  {
   "cell_type": "code",
   "execution_count": null,
   "id": "0bc3eb1c",
   "metadata": {},
   "outputs": [],
   "source": [
    "Bos_listings['Boston_City'] = 1"
   ]
  },
  {
   "cell_type": "code",
   "execution_count": null,
   "id": "8ef62950",
   "metadata": {},
   "outputs": [],
   "source": [
    "Bos_listings['Boston_City'].value_counts()"
   ]
  },
  {
   "cell_type": "code",
   "execution_count": null,
   "id": "ea7275ff",
   "metadata": {},
   "outputs": [],
   "source": [
    "listings = Sea_listings.append(Bos_listings)"
   ]
  },
  {
   "cell_type": "code",
   "execution_count": null,
   "id": "6d8dd292",
   "metadata": {},
   "outputs": [],
   "source": [
    "listings.shape"
   ]
  },
  {
   "cell_type": "code",
   "execution_count": null,
   "id": "aa3f2f4a",
   "metadata": {
    "scrolled": true
   },
   "outputs": [],
   "source": [
    "listings.info() #Why is licence in here? Most variable have around 7k observations.\n",
    "#Let's pick variables of interest out from the below for modelling, as not all of these are relevant to proce"
   ]
  },
  {
   "cell_type": "code",
   "execution_count": null,
   "id": "722420de",
   "metadata": {},
   "outputs": [],
   "source": [
    "listings = listings[['price', 'host_is_superhost', 'room_type', 'bed_type', 'experiences_offered', 'host_has_profile_pic', 'Boston_City', 'is_location_exact', 'property_type','bathrooms', 'bedrooms', 'beds', 'security_deposit', 'cleaning_fee', 'minimum_nights', 'maximum_nights', 'availability_30', 'number_of_reviews', 'review_scores_rating', 'instant_bookable', 'cancellation_policy', 'amenities' ]]"
   ]
  },
  {
   "cell_type": "code",
   "execution_count": null,
   "id": "ef19d34f",
   "metadata": {},
   "outputs": [],
   "source": [
    "listings.info()"
   ]
  },
  {
   "cell_type": "code",
   "execution_count": null,
   "id": "233da2ef",
   "metadata": {},
   "outputs": [],
   "source": [
    "listings.head()"
   ]
  },
  {
   "cell_type": "code",
   "execution_count": null,
   "id": "7edb2c40",
   "metadata": {},
   "outputs": [],
   "source": [
    "listings['experiences_offered'].value_counts() # looks like a dudd"
   ]
  },
  {
   "cell_type": "code",
   "execution_count": null,
   "id": "a0118c1e",
   "metadata": {},
   "outputs": [],
   "source": [
    "listings = listings.drop(['experiences_offered'], axis=1)"
   ]
  },
  {
   "cell_type": "code",
   "execution_count": null,
   "id": "3184a373",
   "metadata": {},
   "outputs": [],
   "source": [
    "#Let's start tidying up the data.\n",
    "# Have binary variables that need to be 1/0, text that needs to be a scale, punctuation to remove and missing values to impute."
   ]
  },
  {
   "cell_type": "code",
   "execution_count": null,
   "id": "b0a0a6a0",
   "metadata": {},
   "outputs": [],
   "source": []
  },
  {
   "cell_type": "code",
   "execution_count": null,
   "id": "3b47ca69",
   "metadata": {},
   "outputs": [],
   "source": [
    "ammen = listings['amenities'].str.split(\",\")\n",
    "\n",
    "ammen\n",
    "\n",
    "flat_list = []\n",
    "for sublist in ammen:\n",
    "    for item in sublist:\n",
    "        flat_list.append(item)\n",
    "\n",
    "flat_list\n",
    "\n",
    "char = '{'\n",
    "char2 ='}'\n",
    "char3 = '\"'\n",
    "char4 = \"'\"\n",
    "\n",
    "for idx, ele in enumerate(flat_list):\n",
    "        flat_list[idx] = ele.replace(char, '').replace(char2, \"\").replace(char3,'').replace(char4,'')\n",
    "\n",
    "flat_list\n",
    "\n",
    "unique_amens = set(flat_list)\n",
    "\n",
    "unique_amens\n",
    "\n",
    "unique_amens.remove('translation missing: en.hosting_amenity_49')\n",
    "\n",
    "unique_amens.remove('translation missing: en.hosting_amenity_50')\n",
    "\n",
    "unique_amens.remove('')\n",
    "\n",
    "unique_amens\n",
    "\n",
    "test = listings.amenities.str.get_dummies(sep = \",\")\n",
    "\n",
    "#test\n",
    "\n",
    "test.columns = test.columns.astype(str).str.replace(r'[\"\"]', \"\")\n",
    "\n",
    "test\n",
    "\n",
    "amen_dums = test.drop(columns=[col for col in test.columns if col not in unique_amens])\n",
    "\n",
    "amen_dums"
   ]
  },
  {
   "cell_type": "code",
   "execution_count": null,
   "id": "cefe61af",
   "metadata": {},
   "outputs": [],
   "source": [
    "listings = listings.join(amen_dums)"
   ]
  },
  {
   "cell_type": "code",
   "execution_count": null,
   "id": "3ac62042",
   "metadata": {},
   "outputs": [],
   "source": [
    "listings = listings.replace(',','', regex=True)"
   ]
  },
  {
   "cell_type": "code",
   "execution_count": null,
   "id": "5aade995",
   "metadata": {},
   "outputs": [],
   "source": [
    "listings = listings.replace('&','', regex=True)"
   ]
  },
  {
   "cell_type": "code",
   "execution_count": null,
   "id": "4fe4bc20",
   "metadata": {},
   "outputs": [],
   "source": [
    "listings = listings.replace('$','', regex=True)"
   ]
  },
  {
   "cell_type": "code",
   "execution_count": null,
   "id": "ec33f0a6",
   "metadata": {},
   "outputs": [],
   "source": [
    "def binary(col): \n",
    "    return col.map(dict(t=1, f=0))"
   ]
  },
  {
   "cell_type": "code",
   "execution_count": null,
   "id": "cbedc965",
   "metadata": {},
   "outputs": [],
   "source": [
    "listings[['instant_bookable', 'host_is_superhost', 'host_has_profile_pic', 'is_location_exact']]=listings[['instant_bookable', 'host_is_superhost', 'host_has_profile_pic',  'is_location_exact']].apply(binary)"
   ]
  },
  {
   "cell_type": "code",
   "execution_count": null,
   "id": "0c2ffc8d",
   "metadata": {},
   "outputs": [],
   "source": [
    "listings.head()"
   ]
  },
  {
   "cell_type": "code",
   "execution_count": null,
   "id": "8bd51568",
   "metadata": {},
   "outputs": [],
   "source": [
    "listings['property_type'].value_counts()"
   ]
  },
  {
   "cell_type": "code",
   "execution_count": null,
   "id": "ad6f3ff1",
   "metadata": {},
   "outputs": [],
   "source": [
    "listings['property_type'] = listings['property_type'].apply(lambda x: 2 if x =='House' else 2 if x == 'Townhouse' else 1 if\n",
    "                                                           x ==' Apartment' else 1 if x=='Condominium' else 0)"
   ]
  },
  {
   "cell_type": "code",
   "execution_count": null,
   "id": "b8e132e9",
   "metadata": {},
   "outputs": [],
   "source": [
    "listings['cancellation_policy'].value_counts()"
   ]
  },
  {
   "cell_type": "code",
   "execution_count": null,
   "id": "3584d694",
   "metadata": {},
   "outputs": [],
   "source": [
    "listings['cancellation_policy'] = listings['cancellation_policy'].apply(lambda x: 3 if x =='super_strict_30' else 2 if x =='strict'\n",
    "                                                        else 1 if x=='moderate' else 0)"
   ]
  },
  {
   "cell_type": "code",
   "execution_count": null,
   "id": "b90460ee",
   "metadata": {},
   "outputs": [],
   "source": [
    "listings.head()"
   ]
  },
  {
   "cell_type": "code",
   "execution_count": null,
   "id": "2605b64b",
   "metadata": {},
   "outputs": [],
   "source": [
    "listings['room_type'].value_counts()"
   ]
  },
  {
   "cell_type": "code",
   "execution_count": null,
   "id": "32341856",
   "metadata": {},
   "outputs": [],
   "source": [
    "room = pd.get_dummies(listings['room_type'], prefix='room', drop_first=True)"
   ]
  },
  {
   "cell_type": "code",
   "execution_count": null,
   "id": "20d91e10",
   "metadata": {},
   "outputs": [],
   "source": [
    "listings = listings.join(room)"
   ]
  },
  {
   "cell_type": "code",
   "execution_count": null,
   "id": "0cde1502",
   "metadata": {},
   "outputs": [],
   "source": [
    "listings['bed_type'].value_counts()"
   ]
  },
  {
   "cell_type": "code",
   "execution_count": null,
   "id": "b518f0aa",
   "metadata": {},
   "outputs": [],
   "source": [
    "bed = pd.get_dummies(listings['bed_type'], prefix ='bed', drop_first=True)"
   ]
  },
  {
   "cell_type": "code",
   "execution_count": null,
   "id": "fe1860d7",
   "metadata": {},
   "outputs": [],
   "source": [
    "listings = listings.join(bed)"
   ]
  },
  {
   "cell_type": "code",
   "execution_count": null,
   "id": "ce317c58",
   "metadata": {},
   "outputs": [],
   "source": [
    "listings.head()"
   ]
  },
  {
   "cell_type": "code",
   "execution_count": null,
   "id": "a7e5bbed",
   "metadata": {},
   "outputs": [],
   "source": [
    "listings.info()"
   ]
  },
  {
   "cell_type": "code",
   "execution_count": null,
   "id": "002c6e1a",
   "metadata": {},
   "outputs": [],
   "source": [
    "listings['cleaning_fee'].value_counts()"
   ]
  },
  {
   "cell_type": "code",
   "execution_count": null,
   "id": "b8d2e379",
   "metadata": {},
   "outputs": [],
   "source": [
    "#Security deposit and cleaning fee still have dollar signs. Need to be converted to numeric type before missinga data can be filled"
   ]
  },
  {
   "cell_type": "code",
   "execution_count": null,
   "id": "1ae12295",
   "metadata": {},
   "outputs": [],
   "source": [
    "listings['security_deposit']= listings['security_deposit'].str.replace('$','', regex=True)"
   ]
  },
  {
   "cell_type": "code",
   "execution_count": null,
   "id": "9a6acfdf",
   "metadata": {},
   "outputs": [],
   "source": [
    "listings['cleaning_fee']= listings['cleaning_fee'].str.replace('$','', regex=True)"
   ]
  },
  {
   "cell_type": "code",
   "execution_count": null,
   "id": "f76ca775",
   "metadata": {},
   "outputs": [],
   "source": [
    "listings['security_deposit'] = listings['security_deposit'].astype('float')"
   ]
  },
  {
   "cell_type": "code",
   "execution_count": null,
   "id": "035d754b",
   "metadata": {},
   "outputs": [],
   "source": [
    "listings['cleaning_fee'] = listings['cleaning_fee'].astype('float')"
   ]
  },
  {
   "cell_type": "code",
   "execution_count": null,
   "id": "0d711b8c",
   "metadata": {},
   "outputs": [],
   "source": [
    "#These will feed into a function that imputes missing data using average grouped by related values\n",
    "impute_mean_deposit = listings.groupby('bedrooms', dropna=False).mean()['security_deposit'] \n",
    "impute_mean_cleaning = listings.groupby('bedrooms', dropna=False).mean()['cleaning_fee']"
   ]
  },
  {
   "cell_type": "code",
   "execution_count": null,
   "id": "711c5871",
   "metadata": {},
   "outputs": [],
   "source": [
    "def impute_deposit (bedrooms,fee):\n",
    "    if np.isnan(fee):\n",
    "        return impute_mean_deposit[bedrooms]\n",
    "    else:\n",
    "        return fee"
   ]
  },
  {
   "cell_type": "code",
   "execution_count": null,
   "id": "7f86c3e7",
   "metadata": {},
   "outputs": [],
   "source": [
    "listings['security_deposit'] = listings.apply(lambda x: impute_deposit(x['bedrooms'], x['security_deposit']), axis=1)"
   ]
  },
  {
   "cell_type": "code",
   "execution_count": null,
   "id": "ef69a3f0",
   "metadata": {},
   "outputs": [],
   "source": [
    "def impute_cleaning (bedrooms,fee):\n",
    "    if np.isnan(fee):\n",
    "        return impute_mean_cleaning[bedrooms]\n",
    "    else:\n",
    "        return fee"
   ]
  },
  {
   "cell_type": "code",
   "execution_count": null,
   "id": "16843bf5",
   "metadata": {},
   "outputs": [],
   "source": [
    "listings['cleaning_fee'] = listings.apply(lambda x: impute_cleaning(x['bedrooms'], x['cleaning_fee']), axis=1)"
   ]
  },
  {
   "cell_type": "code",
   "execution_count": null,
   "id": "cd65f1b5",
   "metadata": {},
   "outputs": [],
   "source": [
    "listings.head()"
   ]
  },
  {
   "cell_type": "code",
   "execution_count": null,
   "id": "1c8e927f",
   "metadata": {},
   "outputs": [],
   "source": [
    "listings.info()"
   ]
  },
  {
   "cell_type": "code",
   "execution_count": null,
   "id": "3fc0e6ad",
   "metadata": {},
   "outputs": [],
   "source": [
    "listings['price'] = listings['price'].astype('float')"
   ]
  },
  {
   "cell_type": "code",
   "execution_count": null,
   "id": "19a08da4",
   "metadata": {},
   "outputs": [],
   "source": [
    "listings['price'] = listings['price'].astype('Int64')"
   ]
  },
  {
   "cell_type": "code",
   "execution_count": null,
   "id": "f75da05d",
   "metadata": {},
   "outputs": [],
   "source": [
    "listings = listings.drop(['room_type', 'bed_type', 'amenities'], axis=1)"
   ]
  },
  {
   "cell_type": "code",
   "execution_count": null,
   "id": "db5f6ca9",
   "metadata": {},
   "outputs": [],
   "source": [
    "listings = listings.dropna()"
   ]
  },
  {
   "cell_type": "code",
   "execution_count": null,
   "id": "1be37c6c",
   "metadata": {},
   "outputs": [],
   "source": []
  },
  {
   "cell_type": "code",
   "execution_count": null,
   "id": "129f7ab9",
   "metadata": {},
   "outputs": [],
   "source": [
    "Y = listings['price']\n",
    "X = listings.drop(['price'], axis=1)\n",
    "X = sm.add_constant(X)\n",
    "#X_train, X_test, Y_train, Y_test = train_test_split(X, Y, test_size=0.3, random_state = 101)\n",
    "\n",
    "#model1 = LinearRegression()    #This is sklearn approach\n",
    "#model1.fit(X_train, Y_train)\n",
    "\n",
    "model = sm.OLS(Y.astype('float'), X.astype('float')).fit()"
   ]
  },
  {
   "cell_type": "code",
   "execution_count": null,
   "id": "5793148e",
   "metadata": {},
   "outputs": [],
   "source": [
    "print(model.summary())"
   ]
  },
  {
   "cell_type": "code",
   "execution_count": null,
   "id": "fa4a594f",
   "metadata": {},
   "outputs": [],
   "source": []
  },
  {
   "cell_type": "code",
   "execution_count": null,
   "id": "5909b283",
   "metadata": {},
   "outputs": [],
   "source": []
  },
  {
   "cell_type": "code",
   "execution_count": null,
   "id": "5974d4c4",
   "metadata": {},
   "outputs": [],
   "source": []
  },
  {
   "cell_type": "code",
   "execution_count": null,
   "id": "2b5fd236",
   "metadata": {},
   "outputs": [],
   "source": []
  }
 ],
 "metadata": {
  "kernelspec": {
   "display_name": "Python 3 (ipykernel)",
   "language": "python",
   "name": "python3"
  },
  "language_info": {
   "codemirror_mode": {
    "name": "ipython",
    "version": 3
   },
   "file_extension": ".py",
   "mimetype": "text/x-python",
   "name": "python",
   "nbconvert_exporter": "python",
   "pygments_lexer": "ipython3",
   "version": "3.9.12"
  }
 },
 "nbformat": 4,
 "nbformat_minor": 5
}
